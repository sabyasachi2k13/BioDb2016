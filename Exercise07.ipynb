{
 "cells": [
  {
   "cell_type": "code",
   "execution_count": 85,
   "metadata": {
    "collapsed": false
   },
   "outputs": [
    {
     "name": "stdout",
     "output_type": "stream",
     "text": [
      "(1230,)\n"
     ]
    },
    {
     "name": "stderr",
     "output_type": "stream",
     "text": [
      "C:\\Users\\sabby\\Anaconda3\\lib\\site-packages\\pymysql\\cursors.py:166: Warning: (1007, \"Can't create database 'biodb'; database exists\")\n",
      "  result = self._query(query)\n"
     ]
    }
   ],
   "source": [
    "import pandas as pd\n",
    "import pymysql\n",
    "import re,json,os\n",
    "\n",
    "base=os.environ['BUG_FREE_EUREKA_BASE']\n",
    "pathTofile=os.path.join(base,'data','exercise06','E-TABM-713_A-MEXP-1551-analytics.tsv')\n",
    "\n",
    "with open(os.path.join(base,'secrets.json')) as f:\n",
    "    secrets=json.load(f)\n",
    "\n",
    "conn=pymysql.connect(**secrets['test_db'])\n",
    "cursor=conn.cursor()\n",
    "\n",
    "cursor.execute('create database if not exists biodb')\n",
    "\n",
    "df=pd.read_csv(pathTofile,sep='\\t')\n",
    "df.head()\n",
    "df.columns= [re.sub('[ .-]','',x) for x in df.columns ]\n",
    "#df.to_sql('dea',conn,flavor='mysql')\n",
    "cursor.execute(\"show  tables\")\n",
    "cursor.fetchall()\n",
    "print(total)\n",
    "\n",
    "\n",
    "#df.columns\n"
   ]
  },
  {
   "cell_type": "code",
   "execution_count": null,
   "metadata": {
    "collapsed": false
   },
   "outputs": [],
   "source": [
    "cursor.execute('select * from dea limit 10;')\n",
    "all_Q=cursor.fetchall()\n",
    "all_Q"
   ]
  },
  {
   "cell_type": "code",
   "execution_count": 72,
   "metadata": {
    "collapsed": false
   },
   "outputs": [
    {
     "data": {
      "text/plain": [
       "1230"
      ]
     },
     "execution_count": 72,
     "metadata": {},
     "output_type": "execute_result"
    }
   ],
   "source": [
    "cursor.execute('select count(*)  as total from dea;')\n",
    "total=cursor.fetchone()\n",
    "total[0]"
   ]
  },
  {
   "cell_type": "code",
   "execution_count": 79,
   "metadata": {
    "collapsed": false
   },
   "outputs": [
    {
     "data": {
      "text/plain": [
       "0.4529776486719517"
      ]
     },
     "execution_count": 79,
     "metadata": {},
     "output_type": "execute_result"
    }
   ],
   "source": [
    "cursor.execute('select avg(g1_g2pvalue) from dea;')\n",
    "avg_entire=cursor.fetchone()\n",
    "avg_entire[0]"
   ]
  },
  {
   "cell_type": "code",
   "execution_count": null,
   "metadata": {
    "collapsed": false
   },
   "outputs": [],
   "source": [
    "cursor.execute('select avg(g1_g2pvalue),GeneID from dea group by GeneID ;')\n",
    "avg_geneid=cursor.fetchall()\n",
    "avg_geneid"
   ]
  },
  {
   "cell_type": "code",
   "execution_count": 83,
   "metadata": {
    "collapsed": false
   },
   "outputs": [
    {
     "data": {
      "text/plain": [
       "'MIMAT0002177'"
      ]
     },
     "execution_count": 83,
     "metadata": {},
     "output_type": "execute_result"
    }
   ],
   "source": [
    "cursor.execute('select GeneID from dea where g1_g2log2foldchange = (select max(g1_g2log2foldchange) from dea ) ;')\n",
    "gene_max=cursor.fetchone()\n",
    "gene_max[0]"
   ]
  },
  {
   "cell_type": "code",
   "execution_count": 84,
   "metadata": {
    "collapsed": false
   },
   "outputs": [
    {
     "data": {
      "text/plain": [
       "'MIMAT0000451'"
      ]
     },
     "execution_count": 84,
     "metadata": {},
     "output_type": "execute_result"
    }
   ],
   "source": [
    "cursor.execute('select GeneID from dea where g1_g2log2foldchange = (select min(g1_g2log2foldchange) from dea ) ;')\n",
    "gene_min=cursor.fetchone()\n",
    "gene_min[0]"
   ]
  }
 ],
 "metadata": {
  "kernelspec": {
   "display_name": "Python [Root]",
   "language": "python",
   "name": "Python [Root]"
  },
  "language_info": {
   "codemirror_mode": {
    "name": "ipython",
    "version": 3
   },
   "file_extension": ".py",
   "mimetype": "text/x-python",
   "name": "python",
   "nbconvert_exporter": "python",
   "pygments_lexer": "ipython3",
   "version": "3.5.2"
  }
 },
 "nbformat": 4,
 "nbformat_minor": 0
}
