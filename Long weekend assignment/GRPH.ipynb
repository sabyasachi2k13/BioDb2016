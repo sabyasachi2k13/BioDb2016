{
 "cells": [
  {
   "cell_type": "code",
   "execution_count": null,
   "metadata": {
    "collapsed": false
   },
   "outputs": [],
   "source": [
    "def storeDict(filename):        \n",
    "    with open(filename) as fp:\n",
    "        dict_str={}\n",
    "        \n",
    "        for line in fp:\n",
    "            #print(line)\n",
    "            if (line.startswith( '>' )):\n",
    "                strSeq=''\n",
    "                symbol=line.strip()\n",
    "            else:\n",
    "                #print(line)\n",
    "                strSeq=strSeq+line\n",
    "                dict_str[symbol] = strSeq.strip()\n",
    "               \n",
    "    for key in dict_str:\n",
    "        #print('values',dict_str[key])\n",
    "        out = dict_str[key].replace('\\n', '')\n",
    "        #key=key.strip()\n",
    "        dict_str[key]=out\n",
    "       \n",
    "    return dict_str\n",
    "    \n",
    "\n",
    "diction= storeDict('python_file.txt')\n",
    "\n",
    "\n",
    "\n",
    "for seq1 in diction:\n",
    "    for seq2 in diction:\n",
    "        #str1=\"AAATAAA\"\n",
    "        #str2=\"AAATTTT\"\n",
    "        #print(str1[::-1][0:3])\n",
    "        #print(str2[0:3])\n",
    "        #print(diction[seq1][::-1][0:3],diction[seq2][0:3] )\n",
    "        x=seq1.replace('\\n', '').replace('>', '')\n",
    "        x=x.strip()\n",
    "        y=seq2.replace('\\n', '').replace('>', '').strip()\n",
    "        y=y.strip()\n",
    "        \n",
    "  \n",
    "            \n",
    "        #print(x,y)\n",
    "        if (x != y and (diction[seq1][::-1][0:3][::-1] == diction[seq2][0:3] )):\n",
    "                #print(diction[seq1][::-1][0:3],diction[seq2][0:3])\n",
    "                print(seq1.replace('\\n', '').replace('>', ''),'',seq2.replace('\\n', '').replace('>', ''))\n",
    "        #else:\n",
    "                #print('Mismatch')diction[seq1][::,\n",
    "\n",
    "\n",
    "\n"
   ]
  },
  {
   "cell_type": "code",
   "execution_count": 63,
   "metadata": {
    "collapsed": false
   },
   "outputs": [
    {
     "data": {
      "text/plain": [
       "'BCD'"
      ]
     },
     "execution_count": 63,
     "metadata": {},
     "output_type": "execute_result"
    }
   ],
   "source": [
    "'ABCD'[::-1][0:3][::-1]"
   ]
  },
  {
   "cell_type": "code",
   "execution_count": null,
   "metadata": {
    "collapsed": true
   },
   "outputs": [],
   "source": []
  }
 ],
 "metadata": {
  "anaconda-cloud": {},
  "kernelspec": {
   "display_name": "Python [Root]",
   "language": "python",
   "name": "Python [Root]"
  },
  "language_info": {
   "codemirror_mode": {
    "name": "ipython",
    "version": 3
   },
   "file_extension": ".py",
   "mimetype": "text/x-python",
   "name": "python",
   "nbconvert_exporter": "python",
   "pygments_lexer": "ipython3",
   "version": "3.5.2"
  }
 },
 "nbformat": 4,
 "nbformat_minor": 0
}
