{
 "cells": [
  {
   "cell_type": "code",
   "execution_count": 143,
   "metadata": {
    "collapsed": false
   },
   "outputs": [
    {
     "ename": "SyntaxError",
     "evalue": "invalid syntax (<ipython-input-143-9ceaaaeef925>, line 27)",
     "output_type": "error",
     "traceback": [
      "\u001b[1;36m  File \u001b[1;32m\"<ipython-input-143-9ceaaaeef925>\"\u001b[1;36m, line \u001b[1;32m27\u001b[0m\n\u001b[1;33m    if \"\\n\" in dict_str[key]\u001b[0m\n\u001b[1;37m                            ^\u001b[0m\n\u001b[1;31mSyntaxError\u001b[0m\u001b[1;31m:\u001b[0m invalid syntax\n"
     ]
    }
   ],
   "source": [
    "import pandas as pd\n",
    "from pandas import DataFrame\n",
    "import numpy as np\n",
    "\n",
    "def line_prepender(filename, line):\n",
    "    with open(filename, 'r+') as f:\n",
    "        content = f.read()\n",
    "        f.seek(0, 0)\n",
    "        f.write(line.rstrip('\\r\\n') + '\\n' + content)\n",
    "\n",
    "def storeDict(filename):        \n",
    "    with open(filename) as fp:\n",
    "        dict_str={}\n",
    "        \n",
    "        for line in fp:\n",
    "            #print(line)\n",
    "            if (line.startswith( '>' )):\n",
    "                strSeq=''\n",
    "                symbol=line\n",
    "            else:\n",
    "                print(line)\n",
    "                strSeq=strSeq+line\n",
    "                dict_str[symbol] = strSeq.strip()\n",
    "               \n",
    "    for key in dict_str:\n",
    "        print('values',dict_str[key])\n",
    "        if \"\\n\" in dict_str[key]:\n",
    "            print('WTF')\n",
    "        dict_str[key]=list(dict_str[key])\n",
    "       \n",
    "    return dict_str\n",
    "    \n",
    "\n",
    "diction= storeDict('python_file.txt')\n",
    "\n",
    "x=0\n",
    "for key in diction:\n",
    "    print('hell',len(diction[key]))\n",
    "    x=len(diction[key])\n",
    "\n",
    "print('x',x)\n",
    "\n",
    "a = np.arange(x*4).reshape(x,4)\n",
    "list_consensus=[]\n",
    "\n",
    "#print(diction)\n",
    "for idx in range(x):\n",
    "    A=0\n",
    "    T=0\n",
    "    C=0\n",
    "    G=0\n",
    "    for key in diction:\n",
    "        if (diction[key][idx]=='A'):\n",
    "            A=A+1\n",
    "        elif (diction[key][idx]=='T'):\n",
    "            T=T+1\n",
    "        elif (diction[key][idx]=='C'):\n",
    "            C=C+1\n",
    "        elif (diction[key][idx]=='G'):\n",
    "            G=G+1\n",
    "        #print(idx)\n",
    "        #a[idx-1][0]=A\n",
    "        #a[idx-1][1]=T\n",
    "        #a[idx-1][2]=C\n",
    "        #a[idx-1][3]=G\n",
    "    #print(A,T,C,G)\n",
    "    \n",
    "    if ((A+C+G+T)==len(diction)):\n",
    "        print('sum ',len(diction))\n",
    "        print(' ACGT',(A,C,G,T))\n",
    "        a[idx] = (A,C,G,T)\n",
    "        max_cnt = max(A,C,G,T)\n",
    "        if(A==max_cnt):\n",
    "            print('max','A')\n",
    "            list_consensus.append('A')\n",
    "        elif(T==max_cnt):\n",
    "            print('max','T')\n",
    "            list_consensus.append('T')\n",
    "        elif(C==max_cnt):\n",
    "            print('max','C')\n",
    "            list_consensus.append('C')\n",
    "        elif(G==max_cnt):\n",
    "            print('max','G')\n",
    "            list_consensus.append('G')\n",
    "        \n",
    "        #print('Problem')\n",
    "        #print(A,C,G,T)\n",
    "        #for key in diction:\n",
    "            #print('Debug',diction[key][idx])\n",
    "            \n",
    "    \n",
    "    #print('max',max(A,C,G,T))\n",
    "        \n",
    "\n",
    "    \n",
    "print(a.transpose())\n",
    "np.savetxt('test.txt', a.transpose(), delimiter=' ',fmt='%d')\n",
    "strline=''.join(list_consensus) \n",
    "line_prepender('test.txt',strline)\n",
    "\n",
    "\n",
    "        \n"
   ]
  },
  {
   "cell_type": "code",
   "execution_count": null,
   "metadata": {
    "collapsed": false
   },
   "outputs": [],
   "source": [
    "diction"
   ]
  },
  {
   "cell_type": "code",
   "execution_count": null,
   "metadata": {
    "collapsed": true
   },
   "outputs": [],
   "source": []
  }
 ],
 "metadata": {
  "kernelspec": {
   "display_name": "Python [Root]",
   "language": "python",
   "name": "Python [Root]"
  },
  "language_info": {
   "codemirror_mode": {
    "name": "ipython",
    "version": 3
   },
   "file_extension": ".py",
   "mimetype": "text/x-python",
   "name": "python",
   "nbconvert_exporter": "python",
   "pygments_lexer": "ipython3",
   "version": "3.5.2"
  }
 },
 "nbformat": 4,
 "nbformat_minor": 0
}
