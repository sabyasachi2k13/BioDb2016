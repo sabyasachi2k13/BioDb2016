{
 "cells": [
  {
   "cell_type": "code",
   "execution_count": 49,
   "metadata": {
    "collapsed": false
   },
   "outputs": [
    {
     "name": "stdout",
     "output_type": "stream",
     "text": [
      "ID: gi|354622963|ref|NM_001003102.2|\n",
      "Name: gi|354622963|ref|NM_001003102.2|\n",
      "Description: gi|354622963|ref|NM_001003102.2| Canis lupus familiaris ribosomal protein L27 (RPL27), mRNA\n",
      "Number of features: 0\n",
      "Seq('CGTTTCTTCCTTTCTGCTGTAGGCTCGAGTGGCTGGTGTCGAGATGGGCAAGTT...AGA', SingleLetterAlphabet())\n",
      "gi|354622963|ref|NM_001003102.2| Canis lupus familiaris ribosomal protein L27 (RPL27), mRNA\n",
      "CGTTTCTTCCTTTCTGCTGTAGGCTCGAGTGGCTGGTGTCGAGATGGGCAAGTTCATGAAACCCGGGAAGGTGGTGCTGGTCCTGGCCGGACGCTACTCCGGACGCAAAGCGGTCATCGTGAAGAACATTGATGATGGCACCTCAGACCGTCCCTACAGCCATGCTCTGGTGGCCGGAATAGACCGCTATCCCCGAAAAGTGACAGCTGCCATGGGCAAGAAGAAAATCGCCAAGAGGTCAAAGATCAAGTCTTTTGTGAAAGTTTATAACTACAATCACCTCATGCCCACAAGGTACTCTGTGGATATCCCTTTGGACAAAACTGTCGTCAACAAGGATGTCTTCAGAGACCCTGCTCTTAAACGCAAGGCCCGACGAGAGGCCAAGGTCAAGTTCGAGGAGAGGTACAAGACTGGCAAGAATAAGTGGTTCTTCCAGAAGCTGCGGTTTTAGATTTCTTTCAGTCATTAAAAATAAATTAAAAAAAAAAAAAAGA\n"
     ]
    }
   ],
   "source": [
    "from Bio import Entrez\n",
    "from Bio import SeqIO\n",
    "Entrez.email = \"sabyasachi2k13@gmail.com\"\n",
    "\n",
    "def smallest_key(power_levels):\n",
    "    max_val=min(power_levels.values())\n",
    "    for key in power_levels :\n",
    "        if ( power_levels[key]==max_val ):\n",
    "            return( key)\n",
    "#print (len(records[0].seq))  #first record id\n",
    "#print (len(records[1].id)) \n",
    "#print (len(records[2].id)) \n",
    "\n",
    "#text=\"NM_001251956 JX472277 NM_000641 JQ011276 JX317622 NM_001159758 NM_001271262 BT149866 JF927163\"\n",
    "text=\"FJ817486 JX069768 JX469983\"\n",
    "text=\"NM_001003102 NM_001082732 JF927163 JN573266 JX491654 NM_131329 JX462670 HM595636 BT149866\"\n",
    "handle = Entrez.efetch(db=\"nucleotide\", id=[text], rettype=\"fasta\")\n",
    "records = list (SeqIO.parse(handle, \"fasta\")) #we get the list of SeqIO objects in FASTA format\n",
    "words = text.split()\n",
    "i=0\n",
    "    # for each word in the line:\n",
    "    \n",
    "diction={}\n",
    "for word in words:\n",
    "    # print the word\n",
    "    #print(word,len(records[i].seq))\n",
    "    diction[word]=len(records[i].seq+records[i].name+records[i].description)\n",
    "    i=i+1\n",
    "\n",
    "#print('smallest ',smallest_key(diction))\n",
    "\n",
    "handle = Entrez.efetch(db=\"nucleotide\", id=[smallest_key(diction)], rettype=\"fasta\")\n",
    "records = list (SeqIO.parse(handle, \"fasta\")) #we get the list of SeqIO objects in FASTA format\n",
    "print (records[0]) \n",
    "\n",
    "ID=records[0].id\n",
    "desc=records[0].description\n",
    "#print(desc)\n",
    "final=desc+\"\\n\"+records[0].seq\n",
    "print(final)\n",
    "#lst = list(\"FJ817486 JX069768 JX469983\")\n",
    "#print (len(records[-1].seq))  #length of the last record"
   ]
  },
  {
   "cell_type": "code",
   "execution_count": 50,
   "metadata": {
    "collapsed": false
   },
   "outputs": [
    {
     "data": {
      "text/plain": [
       "{'BT149866': 2566,\n",
       " 'HM595636': 1056,\n",
       " 'JF927163': 2319,\n",
       " 'JN573266': 2606,\n",
       " 'JX462670': 734,\n",
       " 'JX491654': 974,\n",
       " 'NM_001003102': 620,\n",
       " 'NM_001082732': 2844,\n",
       " 'NM_131329': 1160}"
      ]
     },
     "execution_count": 50,
     "metadata": {},
     "output_type": "execute_result"
    }
   ],
   "source": [
    "diction"
   ]
  },
  {
   "cell_type": "code",
   "execution_count": null,
   "metadata": {
    "collapsed": true
   },
   "outputs": [],
   "source": []
  }
 ],
 "metadata": {
  "kernelspec": {
   "display_name": "Python [Root]",
   "language": "python",
   "name": "Python [Root]"
  },
  "language_info": {
   "codemirror_mode": {
    "name": "ipython",
    "version": 3
   },
   "file_extension": ".py",
   "mimetype": "text/x-python",
   "name": "python",
   "nbconvert_exporter": "python",
   "pygments_lexer": "ipython3",
   "version": "3.5.2"
  }
 },
 "nbformat": 4,
 "nbformat_minor": 0
}
