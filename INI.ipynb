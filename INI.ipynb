{
 "cells": [
  {
   "cell_type": "code",
   "execution_count": 1,
   "metadata": {
    "collapsed": false
   },
   "outputs": [
    {
     "name": "stdout",
     "output_type": "stream",
     "text": [
      "3.5.2 |Anaconda 4.1.1 (64-bit)| (default, Jul  5 2016, 11:41:13) [MSC v.1900 64 bit (AMD64)]\n"
     ]
    }
   ],
   "source": [
    "import sys\n",
    "print(sys.version)"
   ]
  },
  {
   "cell_type": "code",
   "execution_count": 2,
   "metadata": {
    "collapsed": true
   },
   "outputs": [],
   "source": [
    "\n",
    "from Bio.Seq import Seq"
   ]
  },
  {
   "cell_type": "code",
   "execution_count": 8,
   "metadata": {
    "collapsed": false
   },
   "outputs": [
    {
     "name": "stdout",
     "output_type": "stream",
     "text": [
      "245 239 242 200\n"
     ]
    }
   ],
   "source": [
    "from Bio.Seq import Seq\n",
    "\n",
    "def nucleotideCnt(seq):\n",
    "    my_seq = Seq(seq)\n",
    "    my_seq.count(\"A\")\n",
    "    print(my_seq.count(\"A\"),my_seq.count(\"C\"),my_seq.count(\"G\"),my_seq.count(\"T\"))\n",
    "\n",
    "str=\"TTTAGGCCCTAAAAGCTAACTTCTCGCTTCGGTCTGCAGCGACTGACGCCCGTGGCTCTGCACAGCAGGCGATTTCTTGACGGCCAGCATCCCTCTAAAGAACAGTCGCCACGCCAGACTGGCAGATCTACCCCGCCTGGCAAAATGGAGTTCAAGCCGATCGTGTGTGCGTATGCGATGCCGCATCGGACGTGGCAACGCTTGGGCACAAGGGCACCGATTAAGGTCAAAAATCAAATAGGTCGGGCTTAGCCTGGGCTCATAAACACAGAGAGTCTTGTCGAAAAACACTTTCGGCGTAATCAGGAGGCATGAGCCGATATGCCCTCACTCATTCTCATAGGGATCGGGCCATCCTTGCTACCATACGCGTGTATTGCGACGAGTATCCGATCCAGCCGACCAAAAACAGTTGTAGGGGTCATGTGTACTCAGGTCGATAGTAACTCGGGAAGGCCGGAATCCGAAGAACTGCCTCCGATAGGACAATGGCGGATTAATCAGCTTTGAGAATGGCCGCCACCCGTGAGATTGCGTTCCCGAATTTGATGAGTCCGTCGCCCAAGCATCACGGTAGCCGGACAAGACGAAGGTGTACGCATCTAATTTAATGCGGGGACCACCCGAATACCCCCCTCGTCTGTTGCTCGGGTCATACTAATAGATAACTGAGAGGAGCCATTAATTCGGATTTTACGTTCTAGATAATATACGAGAAACGCGCGGAGATCCAGTCTACGATAACTGAATTATACACCCCAATATCCCGACGGTAATGACGGGAAACACCGTGACGGCATGATGTTTTTCAGGTAATGCACAGTCCCTCACTGGCCACAGAGGGTATAGATTGTGCAGAATCATAACTTGGGAGCTAGCGGCGTCATCAATTGGAAGGGGTAGTCAAATGCCCAGCTCCGGCCAAG\"\n",
    "nucleotideCnt(str)"
   ]
  },
  {
   "cell_type": "code",
   "execution_count": null,
   "metadata": {
    "collapsed": true
   },
   "outputs": [],
   "source": []
  }
 ],
 "metadata": {
  "kernelspec": {
   "display_name": "Python [Root]",
   "language": "python",
   "name": "Python [Root]"
  },
  "language_info": {
   "codemirror_mode": {
    "name": "ipython",
    "version": 3
   },
   "file_extension": ".py",
   "mimetype": "text/x-python",
   "name": "python",
   "nbconvert_exporter": "python",
   "pygments_lexer": "ipython3",
   "version": "3.5.2"
  }
 },
 "nbformat": 4,
 "nbformat_minor": 0
}
