{
 "cells": [
  {
   "cell_type": "code",
   "execution_count": null,
   "metadata": {
    "collapsed": false
   },
   "outputs": [],
   "source": []
  },
  {
   "cell_type": "code",
   "execution_count": 26,
   "metadata": {
    "collapsed": false
   },
   "outputs": [
    {
     "name": "stdout",
     "output_type": "stream",
     "text": [
      "Please enter string sizeless than 1k\n",
      "None\n"
     ]
    }
   ],
   "source": [
    "def revCompl(strSeq):\n",
    "    \n",
    "    if (len(strSeq) >1000):\n",
    "        print('Please enter string sizeless than 1k')\n",
    "        return\n",
    "    revList = []\n",
    "    reverse=strSeq[::-1]\n",
    "    for i in range(len(reverse)):\n",
    "        if(reverse[i]=='A'):\n",
    "            revList.append('T')\n",
    "        if(reverse[i]=='T'):\n",
    "            revList.append('A')\n",
    "        if(reverse[i]=='C'):\n",
    "            revList.append('G')\n",
    "        if(reverse[i]=='G'):\n",
    "            revList.append('C')\n",
    "\n",
    "    compl = ''.join(revList)\n",
    "\n",
    "    return compl\n",
    "\n",
    "\n",
    "\n",
    "strSeq = 'AAAACCCGGT'\n",
    "\n",
    "print(revCompl(strSeq))\n"
   ]
  },
  {
   "cell_type": "code",
   "execution_count": null,
   "metadata": {
    "collapsed": true
   },
   "outputs": [],
   "source": []
  },
  {
   "cell_type": "code",
   "execution_count": null,
   "metadata": {
    "collapsed": true
   },
   "outputs": [],
   "source": []
  }
 ],
 "metadata": {
  "kernelspec": {
   "display_name": "Python [Root]",
   "language": "python",
   "name": "Python [Root]"
  },
  "language_info": {
   "codemirror_mode": {
    "name": "ipython",
    "version": 3
   },
   "file_extension": ".py",
   "mimetype": "text/x-python",
   "name": "python",
   "nbconvert_exporter": "python",
   "pygments_lexer": "ipython3",
   "version": "3.5.2"
  }
 },
 "nbformat": 4,
 "nbformat_minor": 0
}
