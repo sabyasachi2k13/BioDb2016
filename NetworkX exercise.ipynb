{
 "cells": [
  {
   "cell_type": "markdown",
   "metadata": {},
   "source": [
    "# NetworkX exercise "
   ]
  },
  {
   "cell_type": "code",
   "execution_count": 67,
   "metadata": {
    "collapsed": false
   },
   "outputs": [],
   "source": [
    "%matplotlib inline\n",
    "import networkx as nx\n",
    "import vis_bel\n",
    "import os\n",
    "import pickle\n",
    "import imp\n",
    "import numpy as np\n",
    "import itertools as itt"
   ]
  },
  {
   "cell_type": "code",
   "execution_count": 68,
   "metadata": {
    "collapsed": true
   },
   "outputs": [],
   "source": [
    "base = os.environ['BUG_FREE_EUREKA_BASE']\n",
    "path_networkx_AD_pickled =os.path.join(base,'data','exercise05','networkx.graph.AD.pickled')"
   ]
  },
  {
   "cell_type": "markdown",
   "metadata": {},
   "source": [
    "## Loading Alzheimer's disease network into networkX graph with pickle"
   ]
  },
  {
   "cell_type": "code",
   "execution_count": 69,
   "metadata": {
    "collapsed": false
   },
   "outputs": [],
   "source": [
    "graph_AD = pickle.load(open(path_networkx_AD_pickled,'rb'))\n"
   ]
  },
  {
   "cell_type": "markdown",
   "metadata": {},
   "source": [
    "Here some words about [pickle](https://docs.python.org/3/library/pickle.html)"
   ]
  },
  {
   "cell_type": "markdown",
   "metadata": {},
   "source": [
    "### Explore"
   ]
  },
  {
   "cell_type": "code",
   "execution_count": 70,
   "metadata": {
    "collapsed": false
   },
   "outputs": [
    {
     "data": {
      "text/plain": [
       "(11927, 11927, 11927)"
      ]
     },
     "execution_count": 70,
     "metadata": {},
     "output_type": "execute_result"
    }
   ],
   "source": [
    "len(graph_AD),len(graph_AD.nodes()), graph_AD.number_of_nodes()  # number of nodes"
   ]
  },
  {
   "cell_type": "code",
   "execution_count": 71,
   "metadata": {
    "collapsed": false
   },
   "outputs": [
    {
     "data": {
      "text/plain": [
       "59408"
      ]
     },
     "execution_count": 71,
     "metadata": {},
     "output_type": "execute_result"
    }
   ],
   "source": [
    "graph_AD.number_of_edges() # number of nodes"
   ]
  },
  {
   "cell_type": "code",
   "execution_count": 72,
   "metadata": {
    "collapsed": false
   },
   "outputs": [
    {
     "data": {
      "text/plain": [
       "{2: {0: {'Subgraph': ('Non-amyloidogenic pathway', 'Gamma secretase pathway'),\n",
       "   'citation': ('Other', 'Connectors', '123'),\n",
       "   'evidence': 'The statements inside this citation is included to connect two entity types or triples, which will exist as islands/subnetworks in the big model.',\n",
       "   'object_activity': 'act',\n",
       "   'rel': 'decreases'},\n",
       "  1: {'DiseaseState': ('Mild AD',),\n",
       "   'FDASTATUS': ('Phase 3',),\n",
       "   'Subgraph': ('Notch pathway', 'Gamma secretase pathway'),\n",
       "   'citation': ('PubMed', 'Curr Med Chem. 2011;18(35):5430-47', '22087836'),\n",
       "   'evidence': 'gamma-Secretase inhibitor believed to be associated with the inhibition of the cleavage of Notch, a transmembrane receptor involved in regulating cell-fate decisions.',\n",
       "   'object_activity': 'pep',\n",
       "   'rel': 'decreases'}},\n",
       " 1828: {0: {'DiseaseState': ('Mild AD',),\n",
       "   'FDASTATUS': ('Phase 3',),\n",
       "   'Subgraph': ('Notch pathway', 'Gamma secretase pathway'),\n",
       "   'citation': ('PubMed', 'Curr Med Chem. 2011;18(35):5430-47', '22087836'),\n",
       "   'evidence': 'gamma-Secretase inhibitor believed to be associated with the inhibition of the cleavage of Notch, a transmembrane receptor involved in regulating cell-fate decisions.',\n",
       "   'rel': 'decreases'}}}"
      ]
     },
     "execution_count": 72,
     "metadata": {},
     "output_type": "execute_result"
    }
   ],
   "source": [
    "graph_AD[1] # node 1 connections with edge information"
   ]
  },
  {
   "cell_type": "code",
   "execution_count": 73,
   "metadata": {
    "collapsed": false
   },
   "outputs": [
    {
     "data": {
      "text/plain": [
       "dict_keys([2, 1828])"
      ]
     },
     "execution_count": 73,
     "metadata": {},
     "output_type": "execute_result"
    }
   ],
   "source": [
    "graph_AD[1].keys() # nodes ids connected to node 1 "
   ]
  },
  {
   "cell_type": "code",
   "execution_count": 74,
   "metadata": {
    "collapsed": false
   },
   "outputs": [
    {
     "data": {
      "text/plain": [
       "dict_keys([0, 1])"
      ]
     },
     "execution_count": 74,
     "metadata": {},
     "output_type": "execute_result"
    }
   ],
   "source": [
    "graph_AD[1][2].keys()"
   ]
  },
  {
   "cell_type": "code",
   "execution_count": 75,
   "metadata": {
    "collapsed": false
   },
   "outputs": [
    {
     "data": {
      "text/plain": [
       "'decreases'"
      ]
     },
     "execution_count": 75,
     "metadata": {},
     "output_type": "execute_result"
    }
   ],
   "source": [
    "graph_AD[1][2][0].get('rel')"
   ]
  },
  {
   "cell_type": "code",
   "execution_count": 76,
   "metadata": {
    "collapsed": false
   },
   "outputs": [
    {
     "data": {
      "text/plain": [
       "[1, 2]"
      ]
     },
     "execution_count": 76,
     "metadata": {},
     "output_type": "execute_result"
    }
   ],
   "source": [
    "graph_AD.nodes()[:2] # all nodes"
   ]
  },
  {
   "cell_type": "code",
   "execution_count": 77,
   "metadata": {
    "collapsed": false
   },
   "outputs": [
    {
     "data": {
      "text/plain": [
       "[(1,\n",
       "  {'BEL': 'a(CHEBI:\"gamma-secretase inhibitor\")',\n",
       "   'function': 'a',\n",
       "   'namespace': 'CHEBI',\n",
       "   'value': 'gamma-secretase inhibitor'}),\n",
       " (2,\n",
       "  {'BEL': 'complex(SCOMP:\"gamma Secretase Complex\")',\n",
       "   'function': 'complex',\n",
       "   'namespace': 'SCOMP',\n",
       "   'value': '\"gamma Secretase Complex\"'})]"
      ]
     },
     "execution_count": 77,
     "metadata": {},
     "output_type": "execute_result"
    }
   ],
   "source": [
    "graph_AD.nodes(data=True)[:2]"
   ]
  },
  {
   "cell_type": "code",
   "execution_count": 78,
   "metadata": {
    "collapsed": false
   },
   "outputs": [
    {
     "data": {
      "text/plain": [
       "[(1, 2), (1, 2)]"
      ]
     },
     "execution_count": 78,
     "metadata": {},
     "output_type": "execute_result"
    }
   ],
   "source": [
    "graph_AD.edges()[:2]"
   ]
  },
  {
   "cell_type": "code",
   "execution_count": 79,
   "metadata": {
    "collapsed": false
   },
   "outputs": [
    {
     "data": {
      "text/plain": [
       "[(1,\n",
       "  2,\n",
       "  0,\n",
       "  {'Subgraph': ('Non-amyloidogenic pathway', 'Gamma secretase pathway'),\n",
       "   'citation': ('Other', 'Connectors', '123'),\n",
       "   'evidence': 'The statements inside this citation is included to connect two entity types or triples, which will exist as islands/subnetworks in the big model.',\n",
       "   'object_activity': 'act',\n",
       "   'rel': 'decreases'}),\n",
       " (1,\n",
       "  2,\n",
       "  1,\n",
       "  {'DiseaseState': ('Mild AD',),\n",
       "   'FDASTATUS': ('Phase 3',),\n",
       "   'Subgraph': ('Notch pathway', 'Gamma secretase pathway'),\n",
       "   'citation': ('PubMed', 'Curr Med Chem. 2011;18(35):5430-47', '22087836'),\n",
       "   'evidence': 'gamma-Secretase inhibitor believed to be associated with the inhibition of the cleavage of Notch, a transmembrane receptor involved in regulating cell-fate decisions.',\n",
       "   'object_activity': 'pep',\n",
       "   'rel': 'decreases'})]"
      ]
     },
     "execution_count": 79,
     "metadata": {},
     "output_type": "execute_result"
    }
   ],
   "source": [
    "graph_AD.edges(data=True,keys=True)[:2]"
   ]
  },
  {
   "cell_type": "code",
   "execution_count": 80,
   "metadata": {
    "collapsed": true
   },
   "outputs": [],
   "source": [
    "#nodes = np.random.choice(graph,size=100,replace=False)\n"
   ]
  },
  {
   "cell_type": "code",
   "execution_count": 81,
   "metadata": {
    "collapsed": false
   },
   "outputs": [],
   "source": [
    "nodes = set(itt.chain.from_iterable((formN,toN) for formN,toN  in graph_AD.edges()[:100]))"
   ]
  },
  {
   "cell_type": "code",
   "execution_count": 82,
   "metadata": {
    "collapsed": false
   },
   "outputs": [],
   "source": [
    "graph_100 = graph_AD.subgraph(nodes)"
   ]
  },
  {
   "cell_type": "code",
   "execution_count": 83,
   "metadata": {
    "collapsed": false
   },
   "outputs": [
    {
     "data": {
      "image/png": "[encoded data removed]",
      "text/plain": [
       "<matplotlib.figure.Figure at 0x601fdfdba8>"
      ]
     },
     "metadata": {},
     "output_type": "display_data"
    }
   ],
   "source": [
    "nx.draw(graph_100)"
   ]
  },
  {
   "cell_type": "code",
   "execution_count": 84,
   "metadata": {
    "collapsed": false,
    "scrolled": false
   },
   "outputs": [
    {
     "name": "stdout",
     "output_type": "stream",
     "text": [
      "30\n"
     ]
    }
   ],
   "source": [
    "imp.reload(vis_bel)\n",
    "vis_bel.draw(graph_100)\n",
    "print(len(graph_100))\n"
   ]
  },
  {
   "cell_type": "code",
   "execution_count": 21,
   "metadata": {
    "collapsed": false
   },
   "outputs": [
    {
     "name": "stdout",
     "output_type": "stream",
     "text": [
      "(1, 2, 0, {'object_activity': 'act', 'rel': 'decreases', 'citation': ('Other', 'Connectors', '123'), 'Subgraph': ('Non-amyloidogenic pathway', 'Gamma secretase pathway'), 'evidence': 'The statements inside this citation is included to connect two entity types or triples, which will exist as islands/subnetworks in the big model.'})\n"
     ]
    }
   ],
   "source": [
    "for edge in graph_100.edges_iter(data=True,keys=True):\n",
    "    print(edge)\n",
    "    break"
   ]
  },
  {
   "cell_type": "markdown",
   "metadata": {},
   "source": [
    "## Tasks\n",
    "\n",
    "0. Find the node with the highest degree in graph_100\n",
    "0. get all distinct attribute keys in nodes and edges for graph_100\n",
    "0. Write a function which allows you to search all edges in the graph_100 with any key (or key/value). Allow value to be optional\n",
    "0. Find shortest paths between all nodes link to the edges found in the previsious task and create a new graph, dosplay it "
   ]
  },
  {
   "cell_type": "markdown",
   "metadata": {},
   "source": [
    "**hint** : Write a function which allows you to search all edges in the graph_100 with any key (or key/value). Allow value to be optional"
   ]
  },
  {
   "cell_type": "code",
   "execution_count": 220,
   "metadata": {
    "collapsed": false
   },
   "outputs": [
    {
     "name": "stdout",
     "output_type": "stream",
     "text": [
      "6\n",
      "394\n",
      "87\n",
      "[(1, 2), (1, 2), (1, 1828), (2, 1537), (2, 4), (2, 4), (2, 4), (2, 4), (2, 4), (2, 4), (2, 6), (2, 6), (2, 6), (2, 6), (2, 6), (2, 263), (2, 266), (2, 266), (2, 12), (2, 12), (2, 12), (2, 291), (2, 279), (2, 292), (2, 731), (2, 92), (2, 92), (2, 289), (2, 290), (2, 611), (2, 2212), (2, 293), (2, 294), (2, 294), (2, 7), (2, 7), (2, 942), (2, 1534), (2, 1828), (2, 2936), (2, 2936), (2, 2936), (2, 2937), (2, 11457), (3, 611), (3, 1217), (3, 731), (3, 4), (3, 4), (3, 4), (3, 4), (3, 4), (3, 4), (3, 4), (3, 4), (3, 4), (3, 4), (3, 4), (3, 5), (3, 6), (3, 6), (3, 6), (3, 6), (3, 6), (3, 6), (3, 6), (3, 6), (3, 6), (3, 6), (3, 6), (3, 6), (3, 6), (3, 6), (3, 6), (3, 6), (3, 6), (3, 6), (3, 6), (3, 6), (3, 6), (3, 6), (3, 6), (3, 6), (3, 6), (3, 6), (3, 6), (3, 6), (3, 6), (3, 6), (3, 6), (3, 6), (3, 6), (3, 6), (3, 6), (3, 6), (3, 6), (3, 6), (3, 6), (3, 6), (3, 6), (3, 6), (3, 6), (3, 6), (3, 6), (3, 6), (3, 6), (3, 6), (3, 6), (3, 6), (3, 6), (3, 6), (3, 6), (3, 6), (3, 6), (3, 6), (3, 6), (3, 6), (3, 6), (3, 6), (3, 6), (3, 6), (3, 6), (3, 6), (3, 6), (3, 6), (3, 6), (3, 6), (3, 6), (3, 6), (3, 6), (3, 6), (3, 6), (3, 6), (3, 6), (3, 6), (3, 6), (3, 6), (3, 6), (3, 6), (3, 6), (3, 6), (3, 6), (3, 6), (3, 6), (3, 6), (3, 6), (3, 6), (3, 6), (3, 6), (3, 6), (3, 6), (3, 6), (3, 6), (3, 6), (3, 6), (3, 6), (3, 6), (3, 6), (3, 6), (3, 6), (3, 6), (3, 6), (3, 6), (3, 6), (3, 6), (3, 6), (3, 6), (3, 6), (3, 6), (3, 6), (3, 6), (3, 6), (3, 6), (3, 6), (3, 6), (3, 6), (3, 6), (3, 6), (3, 6), (3, 6), (3, 6), (3, 6), (3, 6), (3, 6), (3, 6), (3, 6), (3, 6), (3, 6), (3, 6), (3, 6), (3, 6), (3, 6), (3, 6), (3, 6), (3, 6), (3, 6), (3, 6), (3, 6), (3, 6), (3, 6), (3, 6), (3, 6), (3, 6), (3, 6), (3, 6), (3, 6), (3, 6), (3, 6), (3, 6), (3, 6), (3, 6), (3, 6), (3, 6), (3, 6), (3, 6), (3, 7), (3, 7), (3, 7), (3, 7), (3, 7), (3, 7), (3, 7), (3, 7), (3, 7), (3, 7), (3, 7), (3, 2936), (3, 2936), (3, 2937), (3, 155), (3, 942), (4, 6), (4, 7), (5, 611), (5, 3), (5, 3), (5, 3), (5, 4), (5, 5), (5, 6), (5, 6), (5, 6), (5, 6), (5, 6), (5, 6), (5, 6), (5, 6), (5, 6), (5, 6), (5, 6), (5, 6), (5, 6), (5, 6), (5, 7), (5, 7), (5, 7), (5, 7), (5, 7), (5, 2936), (5, 2936), (5, 2936), (5, 2937), (5, 2937), (5, 2937), (5, 2937), (5, 266), (5, 266), (5, 731), (5, 92), (6, 3), (6, 3), (6, 3), (6, 3), (6, 3), (6, 3), (6, 5), (6, 5), (6, 6), (6, 7), (6, 7), (6, 7), (6, 7), (6, 7), (6, 7), (6, 7), (6, 7), (6, 7), (6, 7), (6, 7), (6, 7), (6, 7), (6, 7), (6, 7), (6, 7), (6, 7), (6, 7), (6, 7), (6, 7), (6, 7), (6, 7), (6, 7), (6, 7), (6, 7), (6, 7), (6, 7), (6, 7), (6, 7), (6, 7), (6, 7), (6, 7), (6, 7), (6, 7), (6, 266), (6, 266), (6, 155), (6, 155), (263, 279), (263, 279), (266, 2937), (266, 2937), (266, 5), (266, 5), (266, 6), (266, 6), (266, 7), (266, 7), (279, 2), (279, 155), (155, 279), (155, 6), (155, 7), (155, 7), (155, 7), (155, 7), (155, 7), (92, 5), (92, 7), (92, 7), (731, 6), (289, 2937), (611, 6), (2212, 2), (7, 2), (7, 3), (7, 3), (7, 3), (7, 3), (7, 3), (7, 3), (7, 3), (7, 3), (7, 3), (7, 3), (7, 5), (7, 5), (7, 5), (7, 6), (7, 6), (7, 6), (7, 6), (7, 6), (7, 6), (7, 6), (7, 6), (7, 6), (7, 6), (7, 6), (7, 6), (7, 6), (7, 6), (7, 6), (7, 6), (7, 6), (7, 6), (7, 6), (7, 6), (7, 6), (7, 266), (7, 155), (7, 155), (7, 155), (7, 155), (7, 92), (1217, 3), (1217, 3), (1217, 6), (2936, 2937), (2937, 2937), (2937, 2937), (2937, 7), (2937, 7), (11457, 2937), (1534, 1537), (1534, 6)]\n",
      "[1, 2, 3, 4, 5, 6, 263, 266, 12, 611, 1537, 279, 292, 155, 92, 731, 289, 290, 291, 2212, 293, 294, 7, 942, 1217, 1534, 1828, 2936, 2937, 11457]\n"
     ]
    }
   ],
   "source": [
    "##################### Question 1 #############################\n",
    "lst=graph_100.nodes()\n",
    "type(graph_100.degree(lst))\n",
    "dict_degree=graph_100.degree(lst)\n",
    "\n",
    "highest_degree=max(dict_degree.values())\n",
    "\n",
    "for x in dict_degree:\n",
    "    if(dict_degree[x]==highest_degree):\n",
    "        print(x)\n",
    "\n",
    "print(len(graph_100.edges()))\n",
    "print(len(set(graph_100.edges())))\n",
    "print(graph_100.edges())\n",
    "print(graph_100.nodes())"
   ]
  },
  {
   "cell_type": "code",
   "execution_count": 186,
   "metadata": {
    "collapsed": false
   },
   "outputs": [
    {
     "name": "stdout",
     "output_type": "stream",
     "text": [
      "1 2\n",
      "1 1828\n",
      "2 1537\n",
      "2 4\n",
      "2 6\n",
      "2 263\n",
      "2 266\n",
      "2 12\n",
      "2 291\n",
      "2 279\n",
      "2 292\n",
      "2 731\n",
      "2 92\n",
      "2 289\n",
      "2 290\n",
      "2 611\n",
      "2 2212\n",
      "2 293\n",
      "2 294\n",
      "2 7\n",
      "2 942\n",
      "2 1534\n",
      "2 1828\n",
      "2 2936\n",
      "2 2937\n",
      "2 11457\n",
      "3 611\n",
      "3 1217\n",
      "3 731\n",
      "3 4\n",
      "3 5\n",
      "3 6\n",
      "3 7\n",
      "3 2936\n",
      "3 2937\n",
      "3 155\n",
      "3 942\n",
      "4 6\n",
      "4 7\n",
      "5 611\n",
      "5 3\n",
      "5 4\n",
      "5 5\n",
      "5 6\n",
      "5 7\n",
      "5 2936\n",
      "5 2937\n",
      "5 266\n",
      "5 731\n",
      "5 92\n",
      "6 3\n",
      "6 5\n",
      "6 6\n",
      "6 7\n",
      "6 266\n",
      "6 155\n",
      "263 279\n",
      "266 2937\n",
      "266 5\n",
      "266 6\n",
      "266 7\n",
      "279 2\n",
      "279 155\n",
      "155 279\n",
      "155 6\n",
      "155 7\n",
      "92 5\n",
      "92 7\n",
      "731 6\n",
      "289 2937\n",
      "611 6\n",
      "2212 2\n",
      "7 2\n",
      "7 3\n",
      "7 5\n",
      "7 6\n",
      "7 266\n",
      "7 155\n",
      "7 92\n",
      "1217 3\n",
      "1217 6\n",
      "2936 2937\n",
      "2937 2937\n",
      "2937 7\n",
      "11457 2937\n",
      "1534 1537\n",
      "1534 6\n",
      "{'CellStructure', 'subject_translocation_to_value', 'FluidAndSecretion', 'Species', 'FDASTATUS', 'subject_translocation', 'rel', 'subject_translocation_from_namespace', 'NervousSystem', 'object_translocation', 'subject_activity', 'CellLine', 'UserdefinedSpecies', 'Developmental_Phase__of_patient', 'object_translocation_from_value', 'citation', 'object_translocation_to_namespace', 'Cell', 'subject_translocation_from_value', 'object_translocation_from_namespace', 'DigestiveSystem', 'CardiovascularSystem', 'MeSHDisease', 'object_translocation_to_value', 'object_activity', 'subject_translocation_to_namespace', 'evidence', 'UserdefinedCellLine', 'Duration_of_Chemical_Exposure', 'Tissue', 'Encode_Feature_Types', 'DiseaseState', 'Subgraph', 'UserdefinedGender'}\n",
      "87\n"
     ]
    }
   ],
   "source": [
    "\n",
    "###################### Question 2(a) #############################\n",
    "\n",
    "attribute_edges = set()\n",
    "cont=0\n",
    "for n,nbrs in graph_100.adjacency_iter():\n",
    "    #print(n,nbrs.keys())\n",
    "    for nbr,eattr in nbrs.items():\n",
    "        print(n,nbr)\n",
    "        cont=cont+1\n",
    "        for y in eattr.values():\n",
    "            for x in y.keys():\n",
    "                attribute_edges.add(x)\n",
    "\n",
    "print(attribute_edges)\n",
    "print(cont)"
   ]
  },
  {
   "cell_type": "code",
   "execution_count": 105,
   "metadata": {
    "collapsed": false
   },
   "outputs": [
    {
     "name": "stdout",
     "output_type": "stream",
     "text": [
      "{'list', 'valid_NSV', 'namespace', 'BEL', 'function', 'value'}\n"
     ]
    }
   ],
   "source": [
    "\n",
    "###################### Question 2 (b) #############################\n",
    "\n",
    "attribute_nodes = set()\n",
    "\n",
    "for n,d in graph_100.nodes_iter(data=True):\n",
    "    for x in d:\n",
    "        attribute_nodes.add(x)\n",
    "    \n",
    "print(attribute_nodes)"
   ]
  },
  {
   "cell_type": "code",
   "execution_count": 210,
   "metadata": {
    "collapsed": false,
    "scrolled": false
   },
   "outputs": [
    {
     "name": "stdout",
     "output_type": "stream",
     "text": [
      "{(7, 3), (3, 5), (6, 7), (5, 6), (155, 6), (3, 6), (6, 155), (3, 7), (6, 5), (5, 3)}\n"
     ]
    }
   ],
   "source": [
    "###################### Question 3 #################################\n",
    "\n",
    "def searchEdges (keyWord,Value):\n",
    "    edges_list=set()\n",
    "    key_to_search=keyWord\n",
    "    key_value_to_search=Value\n",
    "    for n,nbrs in graph_100.adjacency_iter():     \n",
    "        #print(nbrs)\n",
    "        for nbr,eattr in nbrs.items():  \n",
    "            #print(n,nbr,len(eattr))\n",
    "         \n",
    "            for y in eattr.values():   \n",
    "                #print(y)\n",
    "                if key_to_search in y.keys():\n",
    "                    #print(type(y[key_to_search]))\n",
    "                    if (isinstance(y[key_to_search],tuple)) :\n",
    "                        for value_key in y[key_to_search]:\n",
    "                        #print (value_key)\n",
    "                            if (key_value_to_search==value_key or key_value_to_search=='' ):\n",
    "                                   edges_list.add((n,nbr))\n",
    "                    else:\n",
    "                         if (key_value_to_search==y[key_to_search] or key_value_to_search=='' ):\n",
    "                                edges_list.add((n,nbr))\n",
    "    return edges_list;\n",
    "\n",
    "edges=searchEdges('Species','')\n",
    "print(edges)\n",
    "\n"
   ]
  },
  {
   "cell_type": "code",
   "execution_count": 221,
   "metadata": {
    "collapsed": false
   },
   "outputs": [
    {
     "name": "stdout",
     "output_type": "stream",
     "text": [
      "{(7, 3), (3, 5), (6, 7), (5, 6), (155, 6), (3, 6), (6, 155), (3, 7), (6, 5), (5, 3)}\n",
      "Shortest Paths {3: {3: [3], 155: [3, 155], 5: [3, 5], 6: [3, 6], 7: [3, 7]}, 155: {3: [155, 6, 3], 155: [155], 5: [155, 6, 5], 6: [155, 6], 7: [155, 7]}, 5: {3: [5, 3], 155: [5, 3, 155], 5: [5], 6: [5, 6], 7: [5, 7]}, 6: {3: [6, 3], 155: [6, 155], 5: [6, 5], 6: [6], 7: [6, 7]}, 7: {3: [7, 3], 155: [7, 155], 5: [7, 5], 6: [7, 6], 7: [7]}}\n"
     ]
    },
    {
     "data": {
      "image/png": "[encoded data removed]",
      "text/plain": [
       "<matplotlib.figure.Figure at 0x6020364908>"
      ]
     },
     "metadata": {},
     "output_type": "display_data"
    }
   ],
   "source": [
    "##################### Question  4 ###################################\n",
    "\n",
    "node_list=set()\n",
    "G=nx.Graph()\n",
    "print(edges)\n",
    "G.add_edges_from(edges)\n",
    "for n,nbrs in G.adjacency_iter():\n",
    "    #print(n,nbrs)\n",
    "    #print(nbrs.keys())\n",
    "    for node in nbrs.keys():\n",
    "        #print('node',node)\n",
    "        node_list.add(node)\n",
    "        #print(node_list)    \n",
    "graph_new = graph_AD.subgraph(node_list)\n",
    "p=nx.shortest_path(graph_new)\n",
    "nx.draw(graph_new,with_labels=True)\n",
    "print('Shortest Paths' ,p)\n",
    "#plt.show()"
   ]
  },
  {
   "cell_type": "code",
   "execution_count": null,
   "metadata": {
    "collapsed": true
   },
   "outputs": [],
   "source": []
  },
  {
   "cell_type": "code",
   "execution_count": null,
   "metadata": {
    "collapsed": true
   },
   "outputs": [],
   "source": []
  }
 ],
 "metadata": {
  "kernelspec": {
   "display_name": "Python [Root]",
   "language": "python",
   "name": "Python [Root]"
  },
  "language_info": {
   "codemirror_mode": {
    "name": "ipython",
    "version": 3
   },
   "file_extension": ".py",
   "mimetype": "text/x-python",
   "name": "python",
   "nbconvert_exporter": "python",
   "pygments_lexer": "ipython3",
   "version": "3.5.2"
  }
 },
 "nbformat": 4,
 "nbformat_minor": 1
}
