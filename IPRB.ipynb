{
 "cells": [
  {
   "cell_type": "code",
   "execution_count": 29,
   "metadata": {
    "collapsed": false
   },
   "outputs": [
    {
     "name": "stdout",
     "output_type": "stream",
     "text": [
      "0.7833333333333332\n"
     ]
    }
   ],
   "source": [
    "def probTree(k,m,n):\n",
    "    prob_tree={}\n",
    "    prob_tree_second={}\n",
    "\n",
    "    prob_tree['kk']= ((k)/(k+m+n))*((k-1)/(k+m+n-1))\n",
    "    prob_tree['mm']= ((m)/(k+m+n))*((m-1)/(k+m+n-1))\n",
    "    prob_tree['nn']= ((n)/(k+m+n))*((n-1)/(k+m+n-1))\n",
    "    prob_tree['mk']= ((m)/(k+m+n))*((k)/(k+m+n-1))\n",
    "    prob_tree['km']= ((k)/(k+m+n))*((m)/(k+m+n-1))\n",
    "    prob_tree['nk']= ((n)/(k+m+n))*((k)/(k+m+n-1))\n",
    "    prob_tree['kn']= ((k)/(k+m+n))*((n)/(k+m+n-1))\n",
    "    prob_tree['mn']= ((m)/(k+m+n))*((n)/(k+m+n-1))\n",
    "    prob_tree['nm']= ((n)/(k+m+n))*((m)/(k+m+n-1))\n",
    "\n",
    "    prob_tree_second['kk']= 1\n",
    "    prob_tree_second['mm']= 0.75\n",
    "    prob_tree_second['nn']= 0\n",
    "    prob_tree_second['mk']= 1\n",
    "    prob_tree_second['km']= 1\n",
    "    prob_tree_second['nk']= 1\n",
    "    prob_tree_second['kn']= 1\n",
    "    prob_tree_second['mn']= 0.5\n",
    "    prob_tree_second['nm']= 0.5\n",
    "\n",
    "    sump=prob_tree['kk']*prob_tree_second['kk']+prob_tree['mm']*prob_tree_second['mm']+prob_tree['nn']*prob_tree_second['nn']+prob_tree['mk']*prob_tree_second['mk']+prob_tree['km']*prob_tree_second['km']+prob_tree['kn']*prob_tree_second['kn']+prob_tree['nk']*prob_tree_second['nk']+prob_tree['mn']*prob_tree_second['mn']+prob_tree['nm']*prob_tree_second['nm']\n",
    "    \n",
    "    return sump\n",
    "\n",
    "print(probTree(2,2,2))\n",
    "#sump=prob_tree['kk']*prob_tree_second['kk']+prob_tree['mm']*prob_tree_second['mm']+prob_tree['nn']*prob_tree_second['nn']+prob_tree['mk']*prob_tree_second['mk']+prob_tree['nk']*prob_tree_second['nk']+prob_tree['nm']*prob_tree_second['nm']\n",
    "\n",
    "\n",
    "#sumt=prob_tree['kk']+prob_tree['mm']+prob_tree['nn']+prob_tree['mk']+prob_tree['nk']+prob_tree['nm']\n"
   ]
  },
  {
   "cell_type": "code",
   "execution_count": 28,
   "metadata": {
    "collapsed": false
   },
   "outputs": [
    {
     "data": {
      "text/plain": [
       "0.7186440677966102"
      ]
     },
     "execution_count": 28,
     "metadata": {},
     "output_type": "execute_result"
    }
   ],
   "source": [
    "sump"
   ]
  },
  {
   "cell_type": "code",
   "execution_count": 21,
   "metadata": {
    "collapsed": false
   },
   "outputs": [
    {
     "data": {
      "text/plain": [
       "0.6"
      ]
     },
     "execution_count": 21,
     "metadata": {},
     "output_type": "execute_result"
    }
   ],
   "source": [
    "sumt"
   ]
  },
  {
   "cell_type": "code",
   "execution_count": 22,
   "metadata": {
    "collapsed": false
   },
   "outputs": [
    {
     "data": {
      "text/plain": [
       "0.7222222222222223"
      ]
     },
     "execution_count": 22,
     "metadata": {},
     "output_type": "execute_result"
    }
   ],
   "source": [
    "sump/sumt"
   ]
  },
  {
   "cell_type": "code",
   "execution_count": null,
   "metadata": {
    "collapsed": true
   },
   "outputs": [],
   "source": []
  }
 ],
 "metadata": {
  "kernelspec": {
   "display_name": "Python [Root]",
   "language": "python",
   "name": "Python [Root]"
  },
  "language_info": {
   "codemirror_mode": {
    "name": "ipython",
    "version": 3
   },
   "file_extension": ".py",
   "mimetype": "text/x-python",
   "name": "python",
   "nbconvert_exporter": "python",
   "pygments_lexer": "ipython3",
   "version": "3.5.2"
  }
 },
 "nbformat": 4,
 "nbformat_minor": 0
}
