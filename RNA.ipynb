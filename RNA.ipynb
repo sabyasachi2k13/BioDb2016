{
 "cells": [
  {
   "cell_type": "code",
   "execution_count": 4,
   "metadata": {
    "collapsed": false
   },
   "outputs": [
    {
     "name": "stdout",
     "output_type": "stream",
     "text": [
      "Please enter string size less than 1k\n",
      "None\n"
     ]
    }
   ],
   "source": [
    "def convRNA(strDNA):\n",
    "   \n",
    "    if (len(strDNA) >1000):\n",
    "        print('Please enter string size less than 1k')\n",
    "        return\n",
    "    \n",
    "    strRNA=strDNA.replace(\"T\", \"U\")\n",
    "    return strRNA\n",
    "\n",
    "strDNA=\"GATGGAACTTGACTACGTAAATT\"\n",
    "\n",
    "print(convRNA(strDNA))\n"
   ]
  },
  {
   "cell_type": "code",
   "execution_count": null,
   "metadata": {
    "collapsed": true
   },
   "outputs": [],
   "source": []
  }
 ],
 "metadata": {
  "kernelspec": {
   "display_name": "Python [Root]",
   "language": "python",
   "name": "Python [Root]"
  },
  "language_info": {
   "codemirror_mode": {
    "name": "ipython",
    "version": 3
   },
   "file_extension": ".py",
   "mimetype": "text/x-python",
   "name": "python",
   "nbconvert_exporter": "python",
   "pygments_lexer": "ipython3",
   "version": "3.5.2"
  }
 },
 "nbformat": 4,
 "nbformat_minor": 0
}
