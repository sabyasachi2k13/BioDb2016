{
 "cells": [
  {
   "cell_type": "code",
   "execution_count": null,
   "metadata": {
    "collapsed": false
   },
   "outputs": [],
   "source": []
  },
  {
   "cell_type": "code",
   "execution_count": null,
   "metadata": {
    "collapsed": false
   },
   "outputs": [],
   "source": [
    "def allindices(string, sub ):\n",
    "    #i = string.find(sub, offset)\n",
    "    y=0\n",
    "    index=0\n",
    "    list_indices=[]\n",
    "    for  i in range(len(string)):\n",
    "        inter=string[i:]\n",
    "        x=inter.find(sub)\n",
    "        if(x>=0):\n",
    "            print(inter)\n",
    "            #print(x,y)\n",
    "            if (y==0):\n",
    "                index=index+x+1\n",
    "                list_indices.append(index)\n",
    "                print(index+1)\n",
    "                #print(x,y)\n",
    "            #if (y>x):\n",
    "                #print(x)\n",
    "            y=x\n",
    "            \n",
    "\n",
    "        #listindex.append(i)\n",
    "    return list_indices\n",
    "str1 = \"this is exam string example..exam..wow!!!\";\n",
    "str2 = \"exam\";\n",
    "\n",
    "str1=\"CTAATGTGCGTCATGTTTAATGTGTCCGCCGACCGGGATAATGTGCTTCTAATGTGGAGTAATGTGCTTGTAATGTGGGTAATGTGTGGTAATGTGGCAATAATGTGTAGCTAATGTGCCGATAATGTGGGCATAATGTGTAATGTGCGTAATGTGATATTCTACCTGGCTAATGTGACCTACCCTCCGTAATGTGGCTTTAATGTGTAATGTGTAATGTGCCTTGTAATGTGTTAATGTGCGATAATGTGATAATGTGCTTAATGTGGCTAATGTGTAATGTGAATCTCTAATGTGTAATGTGTAATGTGTAATGTGCCCATTAATGTGTCCGTAATGTGACTTAATGTGGTAATGTGGTGTTTAATGTGTAATGTGTAATGTGCTAATGTGGCTAATGTGAGATAAGGCGCATAATGTGAGACATGATAATGTGATAATGTGACATTTGGTAATGTGGCGTAATGTGTAATGTGTAATGTGCCTGATAATGTGTAATGTGCTCATATAATGTGTAATGTGCTAATGTGTAATGTGAGTTTAATGTGGACGATAGTAATGTGTGTAATGTGTAATGTGATTTGTAATGTGGCCCTAATGTGGGTATTAATGTGATTAATGTGGTTTAATGTGTAATGTGGATAATCTATAATGTGTAATGTGATAATGTGGTATAATGTGTTAATGTGGATAATGTGTTAATGTGATAATGTGATAATGTGGGTAATGTGTTGCCTGCTTAATGTGTAATGTGTGTAATGTGTAATGTGTAATGTGAGCTAAGTAATGTGTGACTAATGTGCCATTAATGTGTGCGCAGGTTAATGTGGAATAATGTGTAATGTGTAATGTGGATAATGTGTAATGTGATAATGTGAACGACGGTGCAGCAGATAATGTGTCCGATTAATGTGCTAATGTGTTAATGTGCTTAATGTGCTACTTTCCTAACTATAATGTGTAATGTG\"\n",
    "str2=\"TAATGTGTA\"\n",
    "\n",
    "#allindices(str1,str2)\n",
    "#str1[2:]\n",
    "print(allindices(str1,str2))"
   ]
  },
  {
   "cell_type": "code",
   "execution_count": null,
   "metadata": {
    "collapsed": false
   },
   "outputs": [],
   "source": []
  },
  {
   "cell_type": "code",
   "execution_count": null,
   "metadata": {
    "collapsed": true
   },
   "outputs": [],
   "source": []
  }
 ],
 "metadata": {
  "kernelspec": {
   "display_name": "Python [Root]",
   "language": "python",
   "name": "Python [Root]"
  },
  "language_info": {
   "codemirror_mode": {
    "name": "ipython",
    "version": 3
   },
   "file_extension": ".py",
   "mimetype": "text/x-python",
   "name": "python",
   "nbconvert_exporter": "python",
   "pygments_lexer": "ipython3",
   "version": "3.5.2"
  }
 },
 "nbformat": 4,
 "nbformat_minor": 0
}
