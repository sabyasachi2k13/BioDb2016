{
 "cells": [
  {
   "cell_type": "code",
   "execution_count": 5,
   "metadata": {
    "collapsed": false
   },
   "outputs": [
    {
     "name": "stdout",
     "output_type": "stream",
     "text": [
      "HAMM 7\n"
     ]
    }
   ],
   "source": [
    "def compareHAMM(str1,str2):\n",
    "    \n",
    "    if (len(str1) >1000 or len(str2)>1000):\n",
    "        print('Please enter string less than 1k')\n",
    "    \n",
    "    count=0\n",
    "    for i in range(len(str1)):\n",
    "        if (str1[i]!=str2[i]):\n",
    "            count=count+1\n",
    "    return count\n",
    "\n",
    "\n",
    "str1= 'GAGCCTACTAACGGGAT'\n",
    "str2= 'CATCGTAATGACGGCCT'\n",
    "\n",
    "print('HAMM',compareHAMM(str1,str2))    "
   ]
  },
  {
   "cell_type": "code",
   "execution_count": null,
   "metadata": {
    "collapsed": true
   },
   "outputs": [],
   "source": []
  },
  {
   "cell_type": "code",
   "execution_count": null,
   "metadata": {
    "collapsed": true
   },
   "outputs": [],
   "source": []
  }
 ],
 "metadata": {
  "kernelspec": {
   "display_name": "Python [Root]",
   "language": "python",
   "name": "Python [Root]"
  },
  "language_info": {
   "codemirror_mode": {
    "name": "ipython",
    "version": 3
   },
   "file_extension": ".py",
   "mimetype": "text/x-python",
   "name": "python",
   "nbconvert_exporter": "python",
   "pygments_lexer": "ipython3",
   "version": "3.5.2"
  }
 },
 "nbformat": 4,
 "nbformat_minor": 0
}
