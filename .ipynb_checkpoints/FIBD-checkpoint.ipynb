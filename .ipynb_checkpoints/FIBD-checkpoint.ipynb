{
 "cells": [
  {
   "cell_type": "code",
   "execution_count": 29,
   "metadata": {
    "collapsed": false
   },
   "outputs": [
    {
     "name": "stdout",
     "output_type": "stream",
     "text": [
      "bunnies -1 2 1 1 3\n",
      "bunnies -2 1 2 1 3\n",
      "year 1 Bunnies 0\n",
      "bunnies 0 0 1 2 3\n",
      "bunnies -1 2 2 2 3\n",
      "year 2 Bunnies 1\n",
      "bunnies 1 1 1 3 3\n",
      "bunnies 0 0 2 3 3\n",
      "year 0 Bunnies 1\n",
      "bunnies 2 2 1 4 3\n",
      "bunnies 1 1 2 4 3\n",
      "year 1 Bunnies 1\n",
      "bunnies 3 0 1 5 3\n",
      "bunnies 2 2 2 5 3\n",
      "year 2 Bunnies 2\n"
     ]
    }
   ],
   "source": [
    "LiveRabbits=[]\n",
    "n=6\n",
    "m=3\n",
    "#Initialise the matrix  storing rabbits at each  age- number of  years\n",
    "LiveRabbits = [1]+[0]*(m-1)\n",
    "\n",
    "#age is the time passed\n",
    "for age in range(1, n):\n",
    "    YoungRabbits = 0\n",
    "    for j in range(1,m):\n",
    "        YoungRabbits += LiveRabbits[(age-j-1)%m]\n",
    "        print('bunnies',(age-j-1),(age-j-1)%m,j,age,m)\n",
    "    LiveRabbits[(age)%m] = YoungRabbits\n",
    "    print('year',(age)%m,'Bunnies',YoungRabbits)\n",
    "\n",
    "Total_Rabbits = sum(LiveRabbits)"
   ]
  },
  {
   "cell_type": "code",
   "execution_count": 30,
   "metadata": {
    "collapsed": false
   },
   "outputs": [
    {
     "data": {
      "text/plain": [
       "4"
      ]
     },
     "execution_count": 30,
     "metadata": {},
     "output_type": "execute_result"
    }
   ],
   "source": [
    "Total_Rabbits"
   ]
  }
 ],
 "metadata": {
  "kernelspec": {
   "display_name": "Python [Root]",
   "language": "python",
   "name": "Python [Root]"
  },
  "language_info": {
   "codemirror_mode": {
    "name": "ipython",
    "version": 3
   },
   "file_extension": ".py",
   "mimetype": "text/x-python",
   "name": "python",
   "nbconvert_exporter": "python",
   "pygments_lexer": "ipython3",
   "version": "3.5.2"
  }
 },
 "nbformat": 4,
 "nbformat_minor": 0
}
