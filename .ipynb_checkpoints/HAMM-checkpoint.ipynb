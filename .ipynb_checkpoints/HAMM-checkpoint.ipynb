{
 "cells": [
  {
   "cell_type": "code",
   "execution_count": 4,
   "metadata": {
    "collapsed": false
   },
   "outputs": [
    {
     "ename": "SyntaxError",
     "evalue": "invalid syntax (<ipython-input-4-35bb75c0a341>, line 3)",
     "output_type": "error",
     "traceback": [
      "\u001b[1;36m  File \u001b[1;32m\"<ipython-input-4-35bb75c0a341>\"\u001b[1;36m, line \u001b[1;32m3\u001b[0m\n\u001b[1;33m    if (len(str1) >1000 || len(str2)>1000):\u001b[0m\n\u001b[1;37m                         ^\u001b[0m\n\u001b[1;31mSyntaxError\u001b[0m\u001b[1;31m:\u001b[0m invalid syntax\n"
     ]
    }
   ],
   "source": [
    "def compareHAMM(str1,str2):\n",
    "    \n",
    "    if (len(str1) >1000 or len(str2)>1000):\n",
    "        print('Please enter string less than 1k')\n",
    "    \n",
    "    count=0\n",
    "    for i in range(len(str1)):\n",
    "        if (str1[i]!=str2[i]):\n",
    "            count=count+1\n",
    "    return count\n",
    "\n",
    "\n",
    "str1= 'GAGCCTACTAACGGGAT'\n",
    "str2= 'CATCGTAATGACGGCCT'\n",
    "\n",
    "print('HAMM',compareHAMM(str1,str2))    "
   ]
  },
  {
   "cell_type": "code",
   "execution_count": null,
   "metadata": {
    "collapsed": true
   },
   "outputs": [],
   "source": []
  },
  {
   "cell_type": "code",
   "execution_count": null,
   "metadata": {
    "collapsed": true
   },
   "outputs": [],
   "source": []
  }
 ],
 "metadata": {
  "kernelspec": {
   "display_name": "Python [Root]",
   "language": "python",
   "name": "Python [Root]"
  },
  "language_info": {
   "codemirror_mode": {
    "name": "ipython",
    "version": 3
   },
   "file_extension": ".py",
   "mimetype": "text/x-python",
   "name": "python",
   "nbconvert_exporter": "python",
   "pygments_lexer": "ipython3",
   "version": "3.5.2"
  }
 },
 "nbformat": 4,
 "nbformat_minor": 0
}
