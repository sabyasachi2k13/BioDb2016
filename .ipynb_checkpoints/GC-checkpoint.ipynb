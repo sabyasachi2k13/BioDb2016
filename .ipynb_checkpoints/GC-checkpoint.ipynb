{
 "cells": [
  {
   "cell_type": "code",
   "execution_count": 35,
   "metadata": {
    "collapsed": false
   },
   "outputs": [
    {
     "name": "stdout",
     "output_type": "stream",
     "text": [
      ">Rosalind_0808\n",
      "\n"
     ]
    }
   ],
   "source": [
    "def biggest_key(power_levels):\n",
    "    max_val=max(power_levels.values())\n",
    "    for key in power_levels :\n",
    "        if ( power_levels[key]==max_val ):\n",
    "            return( key)\n",
    "        \n",
    "\n",
    "def GC(filename):        \n",
    "    with open(filename) as fp:\n",
    "        dict_str={}\n",
    "    \n",
    "        for line in fp:\n",
    "            if (line.startswith( '>' )):\n",
    "                strSeq=''\n",
    "                symbol=line\n",
    "            else:\n",
    "                strSeq=strSeq+line\n",
    "                dict_str[symbol] = strSeq\n",
    "\n",
    "        for x in dict_str:\n",
    "            #print(x,dict_str[x])\n",
    "            if (len(dict_str[x]) >1000):\n",
    "                print('The sizeof  string greater than 1k')\n",
    "                return\n",
    "            cg=dict_str[x].count('C')+dict_str[x].count('G')\n",
    "            atcg=cg+dict_str[x].count('A')+dict_str[x].count('T')\n",
    "            #print('GC',cg/atcg)\n",
    "            dict_str[x]=cg/atcg\n",
    "\n",
    "    return biggest_key(dict_str)     \n",
    "\n",
    "            \n",
    "print(GC('python_file.txt'))"
   ]
  },
  {
   "cell_type": "code",
   "execution_count": null,
   "metadata": {
    "collapsed": false
   },
   "outputs": [],
   "source": [
    "dict_str"
   ]
  },
  {
   "cell_type": "code",
   "execution_count": null,
   "metadata": {
    "collapsed": true
   },
   "outputs": [],
   "source": []
  }
 ],
 "metadata": {
  "anaconda-cloud": {},
  "kernelspec": {
   "display_name": "Python [Root]",
   "language": "python",
   "name": "Python [Root]"
  },
  "language_info": {
   "codemirror_mode": {
    "name": "ipython",
    "version": 3
   },
   "file_extension": ".py",
   "mimetype": "text/x-python",
   "name": "python",
   "nbconvert_exporter": "python",
   "pygments_lexer": "ipython3",
   "version": "3.5.2"
  }
 },
 "nbformat": 4,
 "nbformat_minor": 0
}
