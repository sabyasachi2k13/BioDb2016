{
 "cells": [
  {
   "cell_type": "code",
   "execution_count": 18,
   "metadata": {
    "collapsed": false
   },
   "outputs": [
    {
     "name": "stdout",
     "output_type": "stream",
     "text": [
      "A\n",
      "71.03711\n",
      "C\n",
      "103.00919\n",
      "D\n",
      "115.02694\n",
      "E\n",
      "129.04259\n",
      "F\n",
      "147.06841\n",
      "G\n",
      "57.02146\n",
      "H\n",
      "137.05891\n",
      "I\n",
      "113.08406\n",
      "K\n",
      "128.09496\n",
      "L\n",
      "113.08406\n",
      "M\n",
      "131.04049\n",
      "N\n",
      "114.04293\n",
      "P\n",
      "97.05276\n",
      "Q\n",
      "128.05858\n",
      "R\n",
      "156.10111\n",
      "S\n",
      "87.03203\n",
      "T\n",
      "101.04768\n",
      "V\n",
      "99.06841\n",
      "W\n",
      "186.07931\n",
      "Y\n",
      "163.06333\n",
      "87.03203\n",
      "128.09496\n",
      "71.03711\n",
      "115.02694\n",
      "163.06333\n",
      "129.04259\n",
      "128.09496\n",
      "821.392\n"
     ]
    }
   ],
   "source": [
    "filename=\"weights.txt\"\n",
    "with open(filename) as fp:\n",
    "    dict_str={}\n",
    "    \n",
    "    for line in fp:\n",
    "        #print(line)\n",
    "        tokens=str.split(line )\n",
    "        print(tokens[0])\n",
    "        print(tokens[1])\n",
    "        dict_str[tokens[0]]=tokens[1]\n",
    "\n",
    "protein = list('DDYGAARHGMSIIANSPKEYYCHCSRAFFMMIGIRQHMPYTNMRCWHLLMVMTVSRVSYQCNAPENLFNKALEVFEMETGRFNCMVQAWVVFPFYFAKLFCYPSLPCVQRQWCCIYVYSQVWFDIDFADWIMADRIPKKYSMSQWCMKLKCKGTVWKSKNIYVNEHRYLQGWWTCMQKDVLWKVTKWIHDMHAMHPQQDNEPQRPHWNVAEPELMASEQPQPWQKEKATECSQIHASQQEGQWMFSCGLNFWYTMRHMEQEMAVGFINEDDARMESTAPVFADPNTQYGWEDQVSPPFSFLHMRYIFYKDTTCHCSWHFDHLDYFQFISRVSNVLPAADQDCLVKDQCMGTVNLHWPWWVWHKSLCMLEDHHHGCMFDPISFYANTCMFPSDHRENGVYAIPLNESYTRNQEVHVTEPTPEHLHDSPYVQVIGHADPRYMAIAQTRDNPSSQGIASVMNQWCALHSLDAPWSQGGDVVRMVTWGVLPWAMNQDTSKYLTGAIPSVAKSRKEVGWKRFDPDIKEVLQWHARWFRCWDVVGFYNRMNWQPVGLNSWISAHPCKPYKTAGQSIIDKPPDHADKRDLNEFQVPAGGEIQSGPTMSINMWLEVKHMLWFQRWKCRQSHWADFRWPAFGDSSRFRGEWVADPHLVCCEYQHCWNDHEQVVMKDPMHTQTALNWPWMQHFRDEFRIFCYENKSCGWPDGVPDDVNDKLYYMNEWSMPEVGSWHVENALIGSGCEMEGFKLGFKTKHWYDCPLERSIVWWMNSYCRWAPCVLWDVMVKLDRWDRGIWISWPYKEQCIMRTAKTENHCCGHDWRLVGHFDIWRYMNFNHMCKAPDYGRPAFWILF')\n",
    "mass=0\n",
    "for aa in protein:\n",
    "    print(dict_str[aa])\n",
    "    mass=mass+float(dict_str[aa])\n",
    "\n",
    "print(round(mass,3))"
   ]
  }
 ],
 "metadata": {
  "kernelspec": {
   "display_name": "Python [Root]",
   "language": "python",
   "name": "Python [Root]"
  },
  "language_info": {
   "codemirror_mode": {
    "name": "ipython",
    "version": 3
   },
   "file_extension": ".py",
   "mimetype": "text/x-python",
   "name": "python",
   "nbconvert_exporter": "python",
   "pygments_lexer": "ipython3",
   "version": "3.5.2"
  }
 },
 "nbformat": 4,
 "nbformat_minor": 0
}
