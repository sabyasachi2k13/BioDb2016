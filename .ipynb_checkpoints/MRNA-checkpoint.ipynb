{
 "cells": [
  {
   "cell_type": "code",
   "execution_count": 16,
   "metadata": {
    "collapsed": false
   },
   "outputs": [
    {
     "name": "stdout",
     "output_type": "stream",
     "text": [
      "147008.0\n"
     ]
    }
   ],
   "source": [
    "def ProteinDictRNA():\n",
    "    '''Returns a dictionary that translates RNA to Protein.'''\n",
    "    # Get the raw codon table.\n",
    "    with open(os.path.join(os.path.dirname(__file__), 'data/codon_table_rna.txt')) as input_data:\n",
    "        rna_to_protein = [line.strip().split() for line in input_data.readlines()]\n",
    "\n",
    "    # Convert to dictionary.\n",
    "    rna_dict = {}\n",
    "    for translation in rna_to_protein:\n",
    "        rna_dict[translation[0]] = translation[1]\n",
    "\n",
    "    return rna_dict\n",
    "\n",
    "\n",
    "filename=\"rna_code.txt\"\n",
    "with open(filename) as fp:\n",
    "    dict_str={}\n",
    "    \n",
    "    for line in fp:\n",
    "        #print(line)\n",
    "        tokens=str.split(line )\n",
    "        #print(tokens[0])\n",
    "        #print(tokens[1])\n",
    "        dict_str[tokens[0]]=tokens[1]\n",
    "\n",
    "protein = list('MTVMQQVPETIYLHKSCIGRQICNSLSSDCYWHCQPAVSYRQVPFDYWEQWNFRRYTHPQSPHDPHYGNFNWHFKLHLVLLIRNELDAPLYHDWLDGGDMGCQDQGDSLQWSEEIEEDDTWLGDAFPVDVMCAKPKAGMDVKMARWRSFVHWNMHEISSVPAKFCQRWVAFHVKEQFWCWWREHCEPVICLWGCTDDMHIVRKHIYRIQAFYGLVCDGEWSAWGIRFYWWDHTDGSYNHHLPGFRGWEPPKYFFEIDTCKYDTDPAYANTFGMQNDLKDTMITKNHVCMDQLNFVTYRNDMLPCIATSHQQCMPRAAAREDSAYSPISRYVIELHNICKAVPYLSELNTCIRRSYDRSNGVMMNNADRWRLDHHFDEDWGQCSKMAWSNTELMGIHCVMEGVRFAYPSMYDGSFTNGTKINVRPQKWNRLEMDVRCKRAFRVGSWHWTGVKQEHIQMCSCTEVGRQWFFRGVLPRRTHFSYLGCCHRSIPYRNCEQPFVVWQYYFMCITYQYWQNQDTCHTTSTRRYTNQKFCRKDVGIAIGENWMQVARITHFVPTYVRCAIQVRVPIQLCECWWTVGWHPDPFRYKYAHNKHPKRCLRDRFMPTQKKENQHKSEWQLCQWDLLRTTYVPDVPSMHRYCTSLMSYLFSKIAQIRQSRDHNLYDIWAGECIGRWYTPLNLCDSESRHCKKMFMNSFWLTCHEVLLPESINFWFKSVLRELQMIFRQTFAYYICNFTAFTMLVKWEKFYVHCVQVLHHRWNVYVGANFQRVRHRAYFAEGWANDHWCWTAESWSTPWIQRMTDAYEAYTVFLKVLLLDQRHNEDHLETMQANNTTNIRCFWQRYQGWENNGVNYQAHFGAEYRAVNYMMPQVAFEAGLFAWWRMTTETKWQTMGSLLTGYKQLEQVMQNKPKQFCREMFFLRGYEWNNCHRTKVDTIVSKPTMRGDKPGGGGSPWYAHEDLYHDDKRNSHTVIMAEWRKPECGIYFSMMPKWTRLSGQDSK')\n",
    "mass=3\n",
    "for aa in protein:\n",
    "    #print(dict_str[aa])\n",
    "    mass=mass*float(dict_str[aa])%1000000\n",
    "    \n",
    "#with open('rna_codon.txt') as input_data:\n",
    " #   protein = input_data.read().strip()\n",
    "    \n",
    "    \n",
    "    \n",
    "    \n",
    "print(mass)"
   ]
  },
  {
   "cell_type": "code",
   "execution_count": null,
   "metadata": {
    "collapsed": true
   },
   "outputs": [],
   "source": []
  }
 ],
 "metadata": {
  "kernelspec": {
   "display_name": "Python [Root]",
   "language": "python",
   "name": "Python [Root]"
  },
  "language_info": {
   "codemirror_mode": {
    "name": "ipython",
    "version": 3
   },
   "file_extension": ".py",
   "mimetype": "text/x-python",
   "name": "python",
   "nbconvert_exporter": "python",
   "pygments_lexer": "ipython3",
   "version": "3.5.2"
  }
 },
 "nbformat": 4,
 "nbformat_minor": 0
}
