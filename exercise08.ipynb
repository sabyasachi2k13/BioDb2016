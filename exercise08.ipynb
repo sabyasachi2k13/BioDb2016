{
 "cells": [
  {
   "cell_type": "markdown",
   "metadata": {},
   "source": [
    "# Introduction\n",
    "\n",
    "This exercise makes use of the database you created in `Exercise02` and the BEL statement parsers you write with regular expressions in `Reading_searching_sending.ipynb`."
   ]
  },
  {
   "cell_type": "code",
   "execution_count": 16,
   "metadata": {
    "collapsed": false
   },
   "outputs": [
    {
     "data": {
      "text/plain": [
       "'Wed Oct  5 10:21:01 2016'"
      ]
     },
     "execution_count": 16,
     "metadata": {},
     "output_type": "execute_result"
    }
   ],
   "source": [
    "import pandas as pd\n",
    "import os, json, re, time\n",
    "time.asctime()"
   ]
  },
  {
   "cell_type": "code",
   "execution_count": 9,
   "metadata": {
    "collapsed": false
   },
   "outputs": [
    {
     "data": {
      "text/plain": [
       "'C:\\\\git\\\\bug-free-eureka'"
      ]
     },
     "execution_count": 9,
     "metadata": {},
     "output_type": "execute_result"
    }
   ],
   "source": [
    "base = os.path.join(os.environ['BUG_FREE_EUREKA_BASE'])\n",
    "base"
   ]
  },
  {
   "cell_type": "markdown",
   "metadata": {},
   "source": [
    "# Task 1\n",
    "\n",
    "This exercise is about loading the HGNC data to create a dictionary from HGNC symbols to set of enzyme ID's.\n",
    "\n",
    "## 1.1 Load Data\n",
    "\n",
    "Load json data from `/data/exercise02/hgnc_complete_set.json`."
   ]
  },
  {
   "cell_type": "code",
   "execution_count": 17,
   "metadata": {
    "collapsed": false
   },
   "outputs": [
    {
     "data": {
      "text/html": [
       "<div>\n",
       "<table border=\"1\" class=\"dataframe\">\n",
       "  <thead>\n",
       "    <tr style=\"text-align: right;\">\n",
       "      <th></th>\n",
       "      <th>response</th>\n",
       "      <th>responseHeader</th>\n",
       "    </tr>\n",
       "  </thead>\n",
       "  <tbody>\n",
       "    <tr>\n",
       "      <th>QTime</th>\n",
       "      <td>NaN</td>\n",
       "      <td>16.0</td>\n",
       "    </tr>\n",
       "    <tr>\n",
       "      <th>docs</th>\n",
       "      <td>[{'_version_': 1546503090507612160, 'ccds_id':...</td>\n",
       "      <td>NaN</td>\n",
       "    </tr>\n",
       "    <tr>\n",
       "      <th>numFound</th>\n",
       "      <td>41049</td>\n",
       "      <td>NaN</td>\n",
       "    </tr>\n",
       "    <tr>\n",
       "      <th>start</th>\n",
       "      <td>0</td>\n",
       "      <td>NaN</td>\n",
       "    </tr>\n",
       "    <tr>\n",
       "      <th>status</th>\n",
       "      <td>NaN</td>\n",
       "      <td>0.0</td>\n",
       "    </tr>\n",
       "  </tbody>\n",
       "</table>\n",
       "</div>"
      ],
      "text/plain": [
       "                                                   response  responseHeader\n",
       "QTime                                                   NaN            16.0\n",
       "docs      [{'_version_': 1546503090507612160, 'ccds_id':...             NaN\n",
       "numFound                                              41049             NaN\n",
       "start                                                     0             NaN\n",
       "status                                                  NaN             0.0"
      ]
     },
     "execution_count": 17,
     "metadata": {},
     "output_type": "execute_result"
    }
   ],
   "source": [
    "data_path=os.path.join(base,'data','exercise02','hgnc_complete_set.json')\n",
    "with open(data_path) as f:\n",
    "    hgnc_json=json.load(f)\n",
    "pd.DataFrame(hgnc_json).head()"
   ]
  },
  {
   "cell_type": "markdown",
   "metadata": {},
   "source": [
    "## 1.2 Reorganize Data into `pd.DataFrame`\n",
    "\n",
    "Identify the relevant subdictionaries in your `dictionary -> response -> docs`. Load them to a data frame, \n",
    "then create a new data frame with just the HGNC symbol and Enzyme ID"
   ]
  },
  {
   "cell_type": "code",
   "execution_count": 18,
   "metadata": {
    "collapsed": false
   },
   "outputs": [],
   "source": [
    "docs=hgnc_json['response']['docs']\n",
    "df_hgnc = pd.DataFrame(docs)\n",
    "df_hgnc.columns\n",
    "symbol2ec ={}\n",
    "df_hgnc_sliced=df_hgnc[['symbol','enzyme_id']]\n",
    "\n",
    "for idx,symbol,enzyme_ids in df_hgnc_sliced.itertuples():\n",
    "    if  isinstance(enzyme_ids,list):\n",
    "        symbol2ec[symbol]=set(enzyme_ids)\n",
    "    else:\n",
    "        symbol2ec[symbol]=None\n",
    "\n",
    "\n",
    "\n"
   ]
  },
  {
   "cell_type": "markdown",
   "metadata": {},
   "source": [
    "## 1.3 Build dictionary for lookup\n",
    "\n",
    "Iterate over this dataframe to build a dictionary that is `{hgnc symbol: set of enzyme id's}`. Call this dictionary `symbol2ec`"
   ]
  },
  {
   "cell_type": "code",
   "execution_count": 19,
   "metadata": {
    "collapsed": false
   },
   "outputs": [
    {
     "data": {
      "text/plain": [
       "41041"
      ]
     },
     "execution_count": 19,
     "metadata": {},
     "output_type": "execute_result"
    }
   ],
   "source": [
    "#symbol2ec = {}\n",
    "'AKT1' in symbol2ec\n",
    "\n",
    "\n",
    "len(symbol2ec)"
   ]
  },
  {
   "cell_type": "markdown",
   "metadata": {},
   "source": [
    "# Task 2\n",
    "\n",
    "This subexercise is about validating protein and kinase activity statements in BEL. Refer to last Thursday's work in `Reading_searching_sending.ipynb`."
   ]
  },
  {
   "cell_type": "markdown",
   "metadata": {},
   "source": [
    "## 2.1 Valid HGNC\n",
    "\n",
    "Write a function, `valid_hgnc(hgnc_symbol, symbol2ec_instance)` that takes a name and the dictionary from Task 1.3 and returns whether this is a valid name"
   ]
  },
  {
   "cell_type": "code",
   "execution_count": 20,
   "metadata": {
    "collapsed": false
   },
   "outputs": [],
   "source": [
    "def valid_hgnc(hgnc_symbol, symbol2ec_instance):\n",
    "        return hgnc_symbol in symbol2ec_instance\n",
    "     \n",
    "       \n",
    "assert valid_hgnc('AKT1',symbol2ec) \n",
    "assert not valid_hgnc('asasa',symbol2ec)"
   ]
  },
  {
   "cell_type": "markdown",
   "metadata": {},
   "source": [
    "## 2.2 Valid Kinase Activity\n",
    "\n",
    "Write a function, `valid_kinase(hgnc_symbol, symbol2ec_instance)` that takes a name and the dictionary from Task 1.3 and returns whether this protein has kinase activity. Hint: an enzyme code reference can be found [here](http://brenda-enzymes.org/ecexplorer.php?browser=1&f[nodes]=132&f[action]=open&f[change]=153)"
   ]
  },
  {
   "cell_type": "code",
   "execution_count": 21,
   "metadata": {
    "collapsed": false
   },
   "outputs": [
    {
     "name": "stdout",
     "output_type": "stream",
     "text": [
      "ecID 2.7.11.1\n"
     ]
    },
    {
     "data": {
      "text/plain": [
       "True"
      ]
     },
     "execution_count": 21,
     "metadata": {},
     "output_type": "execute_result"
    }
   ],
   "source": [
    "def valid_kinase(hgnc_symbol, symbol2ec_instance):\n",
    "    if not valid_hgnc(hgnc_symbol,symbol2ec_instance):\n",
    "        False\n",
    "    else:\n",
    "        for ecID in symbol2ec_instance[hgnc_symbol]:\n",
    "            if ecID.startswith( '2.7' ):\n",
    "                print('ecID',ecID)\n",
    "                return True\n",
    "    return False      \n",
    "   \n",
    "\n",
    "valid_kinase('AKT1',symbol2ec)\n"
   ]
  },
  {
   "cell_type": "code",
   "execution_count": 22,
   "metadata": {
    "collapsed": false
   },
   "outputs": [
    {
     "data": {
      "text/plain": [
       "{'name': 'ABC'}"
      ]
     },
     "execution_count": 22,
     "metadata": {},
     "output_type": "execute_result"
    }
   ],
   "source": [
    "match_protein = re.compile('p\\(HGNC:(?P<name>\\w+)\\)')\n",
    "match_protein.match('p(HGNC:ABC)').groupdict()\n",
    "match_kin = re.compile('kin\\(p\\(HGNC:(?P<name>\\w+)\\)\\)')\n",
    "match_kin.match('kin(p(HGNC:ABC))').groupdict()\n"
   ]
  },
  {
   "cell_type": "markdown",
   "metadata": {},
   "source": [
    "## 2.3 Putting it all together\n",
    "\n",
    "Write a function, `validate_bel_term(term, symbol2ec_instance)` that parses a BEL term about either a protein, or the kinase activity of a protein and validates it.\n",
    "\n",
    "```python\n",
    "def validate_bel_term(term, symbol2ec_instance):\n",
    "    pass\n",
    "```\n",
    "\n",
    "### Examples\n",
    "\n",
    "```python\n",
    ">>> # check that the proteins have valid HGNC codes\n",
    ">>> validate_bel_term('p(HGNC:APP)', symbol2ec)\n",
    "True\n",
    ">>> validate_bel_term('p(HGNC:ABCDEF)', symbol2ec)\n",
    "False\n",
    ">>> # check that kinase activity annotations are only on proteins that are\n",
    ">>> # actually protein kinases (hint: check EC annotation)\n",
    ">>> validate_bel_term('kin(p(HGNC:APP))', symbol2ec)\n",
    "False\n",
    ">>> validate_bel_term('kin(p(HGNC:AKT1))', symbol2ec)\n",
    "True\n",
    "```"
   ]
  },
  {
   "cell_type": "code",
   "execution_count": 23,
   "metadata": {
    "collapsed": false
   },
   "outputs": [
    {
     "name": "stdout",
     "output_type": "stream",
     "text": [
      "Protein AKT1\n",
      "ecID 2.7.11.1\n",
      "True\n"
     ]
    }
   ],
   "source": [
    "def validate_bel_term(term, symbol2ec_instance):\n",
    "    \n",
    "    if (term.startswith('p') ):\n",
    "        match_protein = re.compile('p\\(HGNC:(?P<name>\\w+)\\)')\n",
    "        #protein=match_protein.match('p(HGNC:ABC)').groupdict()\n",
    "        protein=match_protein.match(term).groupdict()\n",
    "    elif(term.startswith('kin') ):\n",
    "        match_kin = re.compile('kin\\(p\\(HGNC:(?P<name>\\w+)\\)\\)')\n",
    "        #protein=match_kin.match('kin(p(HGNC:ABC))').groupdict()\n",
    "        protein=match_kin.match(term).groupdict()\n",
    "        \n",
    "    print('Protein',protein['name'])\n",
    "    protein=protein['name']\n",
    "    \n",
    "    return valid_kinase(protein,symbol2ec_instance)    \n",
    "    \n",
    "print(validate_bel_term('kin(p(HGNC:AKT1))', symbol2ec))    \n"
   ]
  },
  {
   "cell_type": "markdown",
   "metadata": {},
   "source": [
    "asasa"
   ]
  },
  {
   "cell_type": "markdown",
   "metadata": {},
   "source": [
    "# Task 3\n",
    "\n",
    "This task is about manual curation of text. You will be guided through translating the following text into BEL statements as strings within a python list.\n",
    "\n",
    "## Document Definitions\n",
    "\n",
    "Recall citations are written with source, title, then identifier as follows:\n",
    "\n",
    "```\n",
    "SET Citation = {\"PubMed\", \"Nat Cell Biol 2007 Mar 9(3) 316-23\", \"17277771\"}\n",
    "```\n",
    "\n",
    "Use these annotations and these namespaces:\n",
    "\n",
    "```\n",
    "DEFINE NAMESPACE HGNC AS URL \"http://resource.belframework.org/belframework/20131211/namespace/hgnc-human-genes.belns\"\n",
    "\n",
    "DEFINE ANNOTATION CellLocation as LIST {\"cell nucleus\", \"cytoplasm\", \"endoplasmic reticulum\"}\n",
    "```\n",
    "\n",
    "\n",
    "## Source Text\n",
    "\n",
    "> The following statements are from the document \"BEL Exercise\" in edition 00001 of the PyBEL Journal.\n",
    "> The kinase activity of A causes the increased abundance of AKT serine/threonine kinase 1 and AKT serine/threonine kinase 2 in the cytoplasm, \n",
    "> but only the increased expression of AKT serine/threonine kinase 1 in the endoplasmic reticulum. \n",
    "> Additionally, the abundance of AKT serine/threonine kinase 1 and AKT serine/threonine kinase 2 were found to be postively correlated in the cell nuclei.\n",
    "> AKT serine/threonine kinase 2 increases GSK3 Beta in all of the nuclei, cyoplasm, and ER."
   ]
  },
  {
   "cell_type": "code",
   "execution_count": 3,
   "metadata": {
    "collapsed": true
   },
   "outputs": [],
   "source": [
    "definition_statements = [\n",
    "    'SET DOCUMENT name = \"BEL Exercise\"'\n",
    "    'DEFINE NAMESPACE HGNC AS URL \"http://resource.belframework.org/belframework/20131211/namespace/hgnc-human-genes.belns\"',\n",
    "    'DEFINE ANNOTATION CellLocation AS LIST {\"cell nucleus\", \"cytoplasm\", \"endoplasmic reticulum\"}',\n",
    "]"
   ]
  },
  {
   "cell_type": "code",
   "execution_count": 4,
   "metadata": {
    "collapsed": true
   },
   "outputs": [],
   "source": [
    "# hint: there should be 11 statements from this text\n",
    "your_statements = [\n",
    "    ' A -> ',\n",
    "    '',\n",
    "    '',\n",
    "    '',\n",
    "    '',\n",
    "    '',\n",
    "    '',\n",
    "    '',\n",
    "    '',\n",
    "    '',\n",
    "    ''\n",
    "]"
   ]
  },
  {
   "cell_type": "code",
   "execution_count": 5,
   "metadata": {
    "collapsed": true
   },
   "outputs": [],
   "source": [
    "statements = definition_statements + your_statements"
   ]
  },
  {
   "cell_type": "markdown",
   "metadata": {},
   "source": [
    "# Task 4\n",
    "\n",
    "This task is again about regular expressions. Return to `Reading_searching_sending.ipynb` and find your regular expressions that parse the subject, predicate, and object from a statement like `p(HGNC:AKT1) pos p(HGNC:AKT2)`\n",
    "\n",
    "## 4.1 Validating Statements\n",
    "\n",
    "Write a function `validate_bel_statement(statement, symbol2ec)` that takes a subject, predicate, object BEL statement as a string and determines if it its subject and objects are valid."
   ]
  },
  {
   "cell_type": "code",
   "execution_count": 6,
   "metadata": {
    "collapsed": true
   },
   "outputs": [],
   "source": [
    "def validate_bel_statement(statement, symbol2ec):\n",
    "    pass"
   ]
  },
  {
   "cell_type": "markdown",
   "metadata": {},
   "source": [
    "## 4.2 Validating Your Statements\n",
    "\n",
    "Run this cell to validate the BEL statements you've written."
   ]
  },
  {
   "cell_type": "code",
   "execution_count": 7,
   "metadata": {
    "collapsed": false
   },
   "outputs": [
    {
     "ename": "NameError",
     "evalue": "name 'symbol2ec' is not defined",
     "output_type": "error",
     "traceback": [
      "\u001b[1;31m---------------------------------------------------------------------------\u001b[0m",
      "\u001b[1;31mNameError\u001b[0m                                 Traceback (most recent call last)",
      "\u001b[1;32m<ipython-input-7-99d35d0a5c83>\u001b[0m in \u001b[0;36m<module>\u001b[1;34m()\u001b[0m\n\u001b[0;32m      1\u001b[0m \u001b[1;32mfor\u001b[0m \u001b[0mstatement\u001b[0m \u001b[1;32min\u001b[0m \u001b[0myour_statements\u001b[0m\u001b[1;33m:\u001b[0m\u001b[1;33m\u001b[0m\u001b[0m\n\u001b[1;32m----> 2\u001b[1;33m     \u001b[0mvalid\u001b[0m \u001b[1;33m=\u001b[0m \u001b[0mvalidate_bel_statement\u001b[0m\u001b[1;33m(\u001b[0m\u001b[0mstatement\u001b[0m\u001b[1;33m,\u001b[0m \u001b[0msymbol2ec\u001b[0m\u001b[1;33m)\u001b[0m\u001b[1;33m\u001b[0m\u001b[0m\n\u001b[0m\u001b[0;32m      3\u001b[0m     \u001b[0mprint\u001b[0m\u001b[1;33m(\u001b[0m\u001b[1;34m'{} is {}valid'\u001b[0m\u001b[1;33m.\u001b[0m\u001b[0mformat\u001b[0m\u001b[1;33m(\u001b[0m\u001b[0mstatement\u001b[0m\u001b[1;33m,\u001b[0m \u001b[1;34m''\u001b[0m \u001b[1;32mif\u001b[0m \u001b[0mvalid\u001b[0m \u001b[1;32melse\u001b[0m \u001b[1;34m'in'\u001b[0m\u001b[1;33m)\u001b[0m\u001b[1;33m)\u001b[0m\u001b[1;33m\u001b[0m\u001b[0m\n",
      "\u001b[1;31mNameError\u001b[0m: name 'symbol2ec' is not defined"
     ]
    }
   ],
   "source": [
    "for statement in your_statements:\n",
    "    valid = validate_bel_statement(statement, symbol2ec)\n",
    "    print('{} is {}valid'.format(statement, '' if valid else 'in'))"
   ]
  },
  {
   "cell_type": "markdown",
   "metadata": {},
   "source": [
    "## 4.3 Visualization\n",
    "\n",
    "Use `pybel` to visualize the network."
   ]
  },
  {
   "cell_type": "code",
   "execution_count": null,
   "metadata": {
    "collapsed": false
   },
   "outputs": [],
   "source": [
    "try:\n",
    "    import pybel\n",
    "    import networkx\n",
    "    \n",
    "    g = pybel.from_bel(statements)\n",
    "    nx.draw_spring(g, with_labels=True)\n",
    "except:\n",
    "    print('PyBEL not installed')"
   ]
  }
 ],
 "metadata": {
  "anaconda-cloud": {},
  "kernelspec": {
   "display_name": "Python [Root]",
   "language": "python",
   "name": "Python [Root]"
  },
  "language_info": {
   "codemirror_mode": {
    "name": "ipython",
    "version": 3
   },
   "file_extension": ".py",
   "mimetype": "text/x-python",
   "name": "python",
   "nbconvert_exporter": "python",
   "pygments_lexer": "ipython3",
   "version": "3.5.2"
  }
 },
 "nbformat": 4,
 "nbformat_minor": 1
}
